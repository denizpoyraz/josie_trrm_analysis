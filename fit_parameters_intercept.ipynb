{
 "cells": [
  {
   "cell_type": "code",
   "execution_count": 3,
   "id": "e4caacd0",
   "metadata": {},
   "outputs": [],
   "source": [
    "import numpy as np\n",
    "import pandas as pd\n",
    "from constant_variables import *\n"
   ]
  },
  {
   "cell_type": "code",
   "execution_count": 4,
   "id": "a5d94584",
   "metadata": {},
   "outputs": [],
   "source": [
    "def r_intercept(ac,bc, pre1, pre2 ):\n",
    "    v_1 = ac + bc * np.log10(pre1)\n",
    "    v_2 = ac + bc * np.log10(pre2)\n",
    "\n",
    "    print(v_1, v_2)"
   ]
  },
  {
   "cell_type": "code",
   "execution_count": 5,
   "id": "92dab84f",
   "metadata": {},
   "outputs": [],
   "source": [
    "slist = [0,1,3,4]"
   ]
  },
  {
   "cell_type": "code",
   "execution_count": 14,
   "id": "c9c8436b",
   "metadata": {},
   "outputs": [
    {
     "name": "stdout",
     "output_type": "stream",
     "text": [
      "9602 EN-SCI SST0.5\n",
      "a=  12.39  b=  -4.11\n",
      "aerr=  0.25  berr=  0.12\n",
      "0.05999999999999872 8.280000000000001\n",
      "9602 EN-SCI SST1.0\n",
      "a=  17.71  b=  -4.7\n",
      "aerr=  0.11  berr=  0.05\n",
      "3.6099999999999994 13.010000000000002\n",
      "9602 SPC SST0.5\n",
      "a=  -3.42  b=  2.8\n",
      "aerr=  0.29  berr=  0.13\n",
      "4.979999999999999 -0.6200000000000001\n",
      "9602 SPC SST1.0\n",
      "a=  4.26  b=  0.04\n",
      "aerr=  0.09  berr=  0.04\n",
      "4.38 4.3\n"
     ]
    }
   ],
   "source": [
    "for i in slist:\n",
    "#     print(i)\n",
    "    print('9602', labellist[i])\n",
    "    print('a= ',a_9602[i], ' b= ', b_9602[i])\n",
    "    print('aerr= ',a_9602_err[i], ' berr= ', b_9602_err[i])\n",
    "\n",
    "    r_intercept(a_9602[i], b_9602[i], 1000, 10)\n"
   ]
  },
  {
   "cell_type": "code",
   "execution_count": 12,
   "id": "883f83fe",
   "metadata": {},
   "outputs": [
    {
     "name": "stdout",
     "output_type": "stream",
     "text": [
      "0910 EN-SCI SST0.5\n",
      "a=  11.78  b=  -3.48\n",
      "1.3399999999999999 8.299999999999999\n",
      "0910 EN-SCI SST1.0\n",
      "a=  14.91  b=  -3.68\n",
      "3.869999999999999 11.23\n",
      "0910 SPC SST0.5\n",
      "a=  6.42  b=  -2.8\n",
      "-1.9799999999999986 3.62\n",
      "0910 SPC SST1.0\n",
      "a=  7.42  b=  -1.91\n",
      "1.6900000000000004 5.51\n"
     ]
    }
   ],
   "source": [
    "for i in slist:\n",
    "#     print(i)\n",
    "    print('0910', labellist[i])\n",
    "    print('a= ',a_0910[i], ' b= ', b_0910[i])\n",
    "    r_intercept(a_0910[i], b_0910[i], 1000, 10)"
   ]
  },
  {
   "cell_type": "code",
   "execution_count": 1,
   "id": "4a20e18b",
   "metadata": {},
   "outputs": [],
   "source": [
    "#now and update for HV smoothing\n"
   ]
  },
  {
   "cell_type": "code",
   "execution_count": 6,
   "id": "783b5757",
   "metadata": {},
   "outputs": [
    {
     "name": "stdout",
     "output_type": "stream",
     "text": [
      "0910 EN-SCI SST0.5\n",
      "a=  11.79  b=  -3.48\n",
      "1.3499999999999996 8.309999999999999\n",
      "0910 EN-SCI SST1.0\n",
      "a=  14.94  b=  -3.68\n",
      "3.8999999999999986 11.26\n",
      "0910 SPC SST0.5\n",
      "a=  6.43  b=  -2.81\n",
      "-2.0 3.6199999999999997\n",
      "0910 SPC SST1.0\n",
      "a=  7.36  b=  -1.89\n",
      "1.6900000000000004 5.470000000000001\n"
     ]
    }
   ],
   "source": [
    "for i in slist:\n",
    "#     print(i)\n",
    "    print('0910', labellist[i])\n",
    "    print('a= ',a_0910_smhv[i], ' b= ', b_0910_smhv[i])\n",
    "    r_intercept(a_0910_smhv[i], b_0910_smhv[i], 1000, 10)"
   ]
  },
  {
   "cell_type": "code",
   "execution_count": 10,
   "id": "a3e30b0e",
   "metadata": {},
   "outputs": [
    {
     "name": "stdout",
     "output_type": "stream",
     "text": [
      "2017 EN-SCI SST0.5\n",
      "a=  8.36  b=  -2.14\n",
      "1.9399999999999995 6.219999999999999\n",
      "2017 EN-SCI SST0.1\n",
      "a=  -3.58  b=  1.31\n",
      "0.3500000000000001 -2.27\n",
      "2017 SPC SST1.0\n",
      "a=  9.96  b=  -2.28\n",
      "3.120000000000001 7.6800000000000015\n",
      "2017 SPC SST0.1\n",
      "a=  -1.6  b=  -0.64\n",
      "-3.52 -2.24\n"
     ]
    }
   ],
   "source": [
    "slist17 = [0,2,4,5]\n",
    "for i in slist17:\n",
    "#     print(i)\n",
    "    print('2017', labellist[i])\n",
    "    print('a= ',a_2017_smhv[i], ' b= ', b_2017_smhv[i])\n",
    "    r_intercept(a_2017_smhv[i], b_2017_smhv[i], 1000, 10)"
   ]
  },
  {
   "cell_type": "code",
   "execution_count": 11,
   "id": "3f985e73",
   "metadata": {},
   "outputs": [
    {
     "name": "stdout",
     "output_type": "stream",
     "text": [
      "0910 2017 EN-SCI SST0.5\n",
      "a=  9.67  b=  -2.65\n",
      "1.7200000000000006 7.02\n",
      "0910 2017 EN-SCI SST1.0\n",
      "a=  14.94  b=  -3.68\n",
      "3.8999999999999986 11.26\n",
      "0910 2017 SPC SST0.5\n",
      "a=  6.43  b=  -2.81\n",
      "-2.0 3.6199999999999997\n",
      "0910 2017 SPC SST1.0\n",
      "a=  8.53  b=  -2.09\n",
      "2.26 6.4399999999999995\n"
     ]
    }
   ],
   "source": [
    "for i in slist:\n",
    "#     print(i)\n",
    "    print('0910 2017', labellist[i])\n",
    "    print('a= ',a_smhv[i], ' b= ', b_smhv[i])\n",
    "    r_intercept(a_smhv[i], b_smhv[i], 1000, 10)"
   ]
  },
  {
   "cell_type": "code",
   "execution_count": 7,
   "id": "31daf334",
   "metadata": {},
   "outputs": [
    {
     "name": "stdout",
     "output_type": "stream",
     "text": [
      "9602 EN-SCI SST0.5\n",
      "a=  13.92  b=  -4.46\n",
      "0.5400000000000009 9.46\n",
      "9602 EN-SCI SST1.0\n",
      "a=  18.0  b=  -4.74\n",
      "3.7799999999999994 13.26\n",
      "9602 SPC SST0.5\n",
      "a=  -2.15  b=  2.56\n",
      "5.529999999999999 0.41000000000000014\n",
      "9602 SPC SST1.0\n",
      "a=  4.15  b=  0.1\n",
      "4.45 4.25\n"
     ]
    }
   ],
   "source": [
    "for i in slist:\n",
    "#     print(i)\n",
    "    print('9602', labellist[i])\n",
    "    print('a= ',a_9602_smhv[i], ' b= ', b_9602_smhv[i])\n",
    "    r_intercept(a_9602_smhv[i], b_9602_smhv[i], 1000, 10)"
   ]
  },
  {
   "cell_type": "code",
   "execution_count": 8,
   "id": "eca4009e",
   "metadata": {},
   "outputs": [
    {
     "name": "stdout",
     "output_type": "stream",
     "text": [
      "0910 2017 EN-SCI SST0.5\n",
      "a=  9.67  b=  -2.65\n",
      "1.7200000000000006 7.02\n",
      "0910 2017 EN-SCI SST1.0\n",
      "a=  14.94  b=  -3.68\n",
      "3.8999999999999986 11.26\n",
      "0910 2017 SPC SST0.5\n",
      "a=  6.43  b=  -2.81\n",
      "-2.0 3.6199999999999997\n",
      "0910 2017 SPC SST1.0\n",
      "a=  8.53  b=  -2.09\n",
      "2.26 6.4399999999999995\n"
     ]
    }
   ],
   "source": []
  },
  {
   "cell_type": "code",
   "execution_count": null,
   "id": "3c9d938d",
   "metadata": {},
   "outputs": [],
   "source": []
  },
  {
   "cell_type": "code",
   "execution_count": null,
   "id": "1f423066",
   "metadata": {},
   "outputs": [],
   "source": []
  },
  {
   "cell_type": "code",
   "execution_count": 9,
   "id": "aa3b49b0",
   "metadata": {},
   "outputs": [
    {
     "name": "stdout",
     "output_type": "stream",
     "text": [
      "2017 EN-SCI SST0.5\n",
      "a=  8.36  b=  -2.14\n",
      "1.9399999999999995 6.219999999999999\n",
      "2017 EN-SCI SST0.1\n",
      "a=  -3.58  b=  1.31\n",
      "0.3500000000000001 -2.27\n",
      "2017 SPC SST1.0\n",
      "a=  9.96  b=  -2.28\n",
      "3.120000000000001 7.6800000000000015\n",
      "2017 SPC SST0.1\n",
      "a=  -1.6  b=  -0.64\n",
      "-3.52 -2.24\n"
     ]
    }
   ],
   "source": []
  },
  {
   "cell_type": "code",
   "execution_count": null,
   "id": "95e8384a",
   "metadata": {},
   "outputs": [],
   "source": []
  }
 ],
 "metadata": {
  "kernelspec": {
   "display_name": "Python 3 (ipykernel)",
   "language": "python",
   "name": "python3"
  },
  "language_info": {
   "codemirror_mode": {
    "name": "ipython",
    "version": 3
   },
   "file_extension": ".py",
   "mimetype": "text/x-python",
   "name": "python",
   "nbconvert_exporter": "python",
   "pygments_lexer": "ipython3",
   "version": "3.7.3"
  }
 },
 "nbformat": 4,
 "nbformat_minor": 5
}
