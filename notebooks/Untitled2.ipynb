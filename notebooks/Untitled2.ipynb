{
 "cells": [
  {
   "cell_type": "code",
   "execution_count": 1,
   "id": "6bd9c13d",
   "metadata": {},
   "outputs": [],
   "source": [
    "import pandas as pd"
   ]
  },
  {
   "cell_type": "code",
   "execution_count": 3,
   "id": "8cffcc20",
   "metadata": {},
   "outputs": [],
   "source": [
    "pre = '_sm_hv'\n",
    "df17c = pd.read_csv(f\"/home/poyraden/Analysis/JOSIEfiles/Proccessed/Josie2017_deconv_2023paper_ib2{pre}.csv\",\n",
    "                    low_memory=False)\n",
    "df17c = df17c[df17c.iB2 > -9]\n",
    "df17c = df17c[df17c.iB1 > -9]"
   ]
  },
  {
   "cell_type": "code",
   "execution_count": 4,
   "id": "5effbdf8",
   "metadata": {},
   "outputs": [],
   "source": [
    "dfm = df17c"
   ]
  },
  {
   "cell_type": "code",
   "execution_count": 5,
   "id": "8f74c234",
   "metadata": {},
   "outputs": [],
   "source": [
    "dfm = dfm.drop(dfm[(dfm.PO3 < 0)].index)\n",
    "dfm = dfm.drop(dfm[(dfm.PO3_OPM < 0)].index)\n",
    "\n",
    "dfm = dfm.drop(dfm[((dfm.Sim == 175))].index)\n",
    "\n",
    "# dfm = dfm.drop(dfm[(dfm.Sim == 179) & (dfm.Team == 4) & (dfm.Tsim > 4000)].index)\n",
    "# dfm = dfm.drop(dfm[(dfm.Sim == 172) & (dfm.Tsim < 500)].index)\n",
    "# dfm = dfm.drop(dfm[(dfm.Sim == 172) & (dfm.Team == 1) & (dfm.Tsim > 5000) & (dfm.Tsim < 5800)].index)\n",
    "# dfm = dfm.drop(dfm[(dfm.Sim == 172) & (dfm.Team == 4) & (dfm.Tsim > 5000)].index)\n",
    "#\n",
    "# dfm = dfm.drop(dfm[(dfm.Sim == 178) & (dfm.Team == 3) & (dfm.Tsim > 1700) & (dfm.Tsim < 2100)].index)\n",
    "# dfm = dfm.drop(dfm[(dfm.Sim == 178) & (dfm.Team == 3) & (dfm.Tsim > 2500) & (dfm.Tsim < 3000)].index)\n",
    "\n",
    "# dfm = dfm.drop(dfm[((dfm.Sim == 186) & (dfm.Tsim > 5000))].index)\n",
    "dfm = dfm.drop(dfm[((dfm.Sim == 186) & (dfm.Tsim > 4500))].index)\n",
    "\n",
    "dfm = dfm.drop(dfm[((dfm.Tsim > 7000))].index)"
   ]
  },
  {
   "cell_type": "code",
   "execution_count": 6,
   "id": "a909d9d0",
   "metadata": {},
   "outputs": [],
   "source": [
    "df = dfm.drop_duplicates(['Sim','Team'])"
   ]
  },
  {
   "cell_type": "code",
   "execution_count": 7,
   "id": "6f03350c",
   "metadata": {},
   "outputs": [
    {
     "data": {
      "text/html": [
       "<div>\n",
       "<style scoped>\n",
       "    .dataframe tbody tr th:only-of-type {\n",
       "        vertical-align: middle;\n",
       "    }\n",
       "\n",
       "    .dataframe tbody tr th {\n",
       "        vertical-align: top;\n",
       "    }\n",
       "\n",
       "    .dataframe thead th {\n",
       "        text-align: right;\n",
       "    }\n",
       "</style>\n",
       "<table border=\"1\" class=\"dataframe\">\n",
       "  <thead>\n",
       "    <tr style=\"text-align: right;\">\n",
       "      <th></th>\n",
       "      <th>Sim</th>\n",
       "      <th>Team</th>\n",
       "      <th>ENSCI</th>\n",
       "      <th>Sol</th>\n",
       "      <th>Buf</th>\n",
       "      <th>iB1</th>\n",
       "    </tr>\n",
       "  </thead>\n",
       "  <tbody>\n",
       "    <tr>\n",
       "      <th>0</th>\n",
       "      <td>181</td>\n",
       "      <td>2</td>\n",
       "      <td>0</td>\n",
       "      <td>1.0</td>\n",
       "      <td>0.1</td>\n",
       "      <td>0.01</td>\n",
       "    </tr>\n",
       "    <tr>\n",
       "      <th>3501</th>\n",
       "      <td>179</td>\n",
       "      <td>1</td>\n",
       "      <td>0</td>\n",
       "      <td>1.0</td>\n",
       "      <td>0.1</td>\n",
       "      <td>0.03</td>\n",
       "    </tr>\n",
       "    <tr>\n",
       "      <th>7002</th>\n",
       "      <td>185</td>\n",
       "      <td>5</td>\n",
       "      <td>0</td>\n",
       "      <td>1.0</td>\n",
       "      <td>1.0</td>\n",
       "      <td>0.02</td>\n",
       "    </tr>\n",
       "    <tr>\n",
       "      <th>11565</th>\n",
       "      <td>184</td>\n",
       "      <td>7</td>\n",
       "      <td>1</td>\n",
       "      <td>0.5</td>\n",
       "      <td>0.5</td>\n",
       "      <td>0.07</td>\n",
       "    </tr>\n",
       "    <tr>\n",
       "      <th>15066</th>\n",
       "      <td>182</td>\n",
       "      <td>5</td>\n",
       "      <td>0</td>\n",
       "      <td>1.0</td>\n",
       "      <td>1.0</td>\n",
       "      <td>0.20</td>\n",
       "    </tr>\n",
       "    <tr>\n",
       "      <th>...</th>\n",
       "      <td>...</td>\n",
       "      <td>...</td>\n",
       "      <td>...</td>\n",
       "      <td>...</td>\n",
       "      <td>...</td>\n",
       "      <td>...</td>\n",
       "    </tr>\n",
       "    <tr>\n",
       "      <th>278766</th>\n",
       "      <td>179</td>\n",
       "      <td>2</td>\n",
       "      <td>0</td>\n",
       "      <td>1.0</td>\n",
       "      <td>0.1</td>\n",
       "      <td>0.00</td>\n",
       "    </tr>\n",
       "    <tr>\n",
       "      <th>282267</th>\n",
       "      <td>181</td>\n",
       "      <td>1</td>\n",
       "      <td>0</td>\n",
       "      <td>1.0</td>\n",
       "      <td>0.1</td>\n",
       "      <td>0.01</td>\n",
       "    </tr>\n",
       "    <tr>\n",
       "      <th>285768</th>\n",
       "      <td>187</td>\n",
       "      <td>6</td>\n",
       "      <td>1</td>\n",
       "      <td>2.0</td>\n",
       "      <td>0.1</td>\n",
       "      <td>0.02</td>\n",
       "    </tr>\n",
       "    <tr>\n",
       "      <th>289270</th>\n",
       "      <td>185</td>\n",
       "      <td>6</td>\n",
       "      <td>1</td>\n",
       "      <td>0.5</td>\n",
       "      <td>0.5</td>\n",
       "      <td>0.14</td>\n",
       "    </tr>\n",
       "    <tr>\n",
       "      <th>292771</th>\n",
       "      <td>186</td>\n",
       "      <td>6</td>\n",
       "      <td>1</td>\n",
       "      <td>2.0</td>\n",
       "      <td>0.1</td>\n",
       "      <td>0.02</td>\n",
       "    </tr>\n",
       "  </tbody>\n",
       "</table>\n",
       "<p>80 rows × 6 columns</p>\n",
       "</div>"
      ],
      "text/plain": [
       "        Sim  Team  ENSCI  Sol  Buf   iB1\n",
       "0       181     2      0  1.0  0.1  0.01\n",
       "3501    179     1      0  1.0  0.1  0.03\n",
       "7002    185     5      0  1.0  1.0  0.02\n",
       "11565   184     7      1  0.5  0.5  0.07\n",
       "15066   182     5      0  1.0  1.0  0.20\n",
       "...     ...   ...    ...  ...  ...   ...\n",
       "278766  179     2      0  1.0  0.1  0.00\n",
       "282267  181     1      0  1.0  0.1  0.01\n",
       "285768  187     6      1  2.0  0.1  0.02\n",
       "289270  185     6      1  0.5  0.5  0.14\n",
       "292771  186     6      1  2.0  0.1  0.02\n",
       "\n",
       "[80 rows x 6 columns]"
      ]
     },
     "execution_count": 7,
     "metadata": {},
     "output_type": "execute_result"
    }
   ],
   "source": [
    "df[['Sim','Team','ENSCI','Sol','Buf','iB1']]"
   ]
  },
  {
   "cell_type": "code",
   "execution_count": 18,
   "id": "7520bab9",
   "metadata": {},
   "outputs": [],
   "source": [
    "df0505 = df[(df.ENSCI==1) & (df.Sol==0.5)]\n",
    "df10 = df[(df.ENSCI==0) & (df.Sol==1.0)]"
   ]
  },
  {
   "cell_type": "code",
   "execution_count": 9,
   "id": "4951d202",
   "metadata": {},
   "outputs": [
    {
     "data": {
      "text/plain": [
       "(0.0, 0.050375, 0.2)"
      ]
     },
     "execution_count": 9,
     "metadata": {},
     "output_type": "execute_result"
    }
   ],
   "source": [
    "df.iB1.min(), df.iB1.mean(), df.iB1.max()"
   ]
  },
  {
   "cell_type": "code",
   "execution_count": 15,
   "id": "60b8a51c",
   "metadata": {},
   "outputs": [
    {
     "data": {
      "text/plain": [
       "(0.03, 0.07250000000000001, 0.07, 0.14)"
      ]
     },
     "execution_count": 15,
     "metadata": {},
     "output_type": "execute_result"
    }
   ],
   "source": [
    "df0505.iB1.min(), df0505.iB1.mean(),df0505.iB1.median(), df0505.iB1.max()"
   ]
  },
  {
   "cell_type": "code",
   "execution_count": 19,
   "id": "4dea1e4f",
   "metadata": {},
   "outputs": [
    {
     "data": {
      "text/plain": [
       "(0.0, 0.07080000000000002, 0.07, 0.2)"
      ]
     },
     "execution_count": 19,
     "metadata": {},
     "output_type": "execute_result"
    }
   ],
   "source": [
    "df10.iB1.min(), df10.iB1.mean(),df10.iB1.median(), df10.iB1.max()"
   ]
  },
  {
   "cell_type": "code",
   "execution_count": null,
   "id": "d08de50d",
   "metadata": {},
   "outputs": [],
   "source": []
  }
 ],
 "metadata": {
  "kernelspec": {
   "display_name": "Python 3 (ipykernel)",
   "language": "python",
   "name": "python3"
  },
  "language_info": {
   "codemirror_mode": {
    "name": "ipython",
    "version": 3
   },
   "file_extension": ".py",
   "mimetype": "text/x-python",
   "name": "python",
   "nbconvert_exporter": "python",
   "pygments_lexer": "ipython3",
   "version": "3.7.3"
  }
 },
 "nbformat": 4,
 "nbformat_minor": 5
}
