{
 "cells": [
  {
   "cell_type": "code",
   "execution_count": 1,
   "id": "e553b46e",
   "metadata": {},
   "outputs": [],
   "source": [
    "import numpy as np"
   ]
  },
  {
   "cell_type": "code",
   "execution_count": 12,
   "id": "e0aeffae",
   "metadata": {},
   "outputs": [],
   "source": [
    "one = np.random.randint(5,10,10) \n",
    "two = np.random.randint(1,5,10)"
   ]
  },
  {
   "cell_type": "code",
   "execution_count": 13,
   "id": "d533366f",
   "metadata": {},
   "outputs": [
    {
     "name": "stdout",
     "output_type": "stream",
     "text": [
      "[7 6 5 5 8 9 8 6 6 9]\n",
      "[3 2 3 3 2 1 1 4 1 3]\n"
     ]
    }
   ],
   "source": [
    "print(one)\n",
    "print(two)"
   ]
  },
  {
   "cell_type": "code",
   "execution_count": 14,
   "id": "aa463488",
   "metadata": {},
   "outputs": [
    {
     "data": {
      "text/plain": [
       "[2.3333333333333335,\n",
       " 3.0,\n",
       " 1.6666666666666667,\n",
       " 1.6666666666666667,\n",
       " 4.0,\n",
       " 9.0,\n",
       " 8.0,\n",
       " 1.5,\n",
       " 6.0,\n",
       " 3.0]"
      ]
     },
     "execution_count": 14,
     "metadata": {},
     "output_type": "execute_result"
    }
   ],
   "source": [
    "r1 = [o/t for o,t in zip(one,two)]\n",
    "r1"
   ]
  },
  {
   "cell_type": "code",
   "execution_count": 15,
   "id": "2729d750",
   "metadata": {},
   "outputs": [
    {
     "name": "stdout",
     "output_type": "stream",
     "text": [
      "3.0\n"
     ]
    }
   ],
   "source": [
    "r1_med = np.median(r1)\n",
    "print(r1_med)"
   ]
  },
  {
   "cell_type": "code",
   "execution_count": 16,
   "id": "ded11c04",
   "metadata": {},
   "outputs": [
    {
     "name": "stdout",
     "output_type": "stream",
     "text": [
      "2.6\n"
     ]
    }
   ],
   "source": [
    "r2_med = np.median(one)/np.median(two)\n",
    "print(r2_med)"
   ]
  },
  {
   "cell_type": "code",
   "execution_count": null,
   "id": "c0c4d914",
   "metadata": {},
   "outputs": [],
   "source": []
  }
 ],
 "metadata": {
  "kernelspec": {
   "display_name": "Python 3 (ipykernel)",
   "language": "python",
   "name": "python3"
  },
  "language_info": {
   "codemirror_mode": {
    "name": "ipython",
    "version": 3
   },
   "file_extension": ".py",
   "mimetype": "text/x-python",
   "name": "python",
   "nbconvert_exporter": "python",
   "pygments_lexer": "ipython3",
   "version": "3.7.3"
  }
 },
 "nbformat": 4,
 "nbformat_minor": 5
}
