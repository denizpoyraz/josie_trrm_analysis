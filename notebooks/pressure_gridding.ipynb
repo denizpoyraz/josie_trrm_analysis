{
 "cells": [
  {
   "cell_type": "code",
   "execution_count": 1,
   "id": "b870c331",
   "metadata": {},
   "outputs": [],
   "source": [
    "import pandas as pd\n",
    "import numpy as np\n",
    "import matplotlib.pyplot as plt\n"
   ]
  },
  {
   "cell_type": "code",
   "execution_count": 105,
   "id": "07b0d77e",
   "metadata": {},
   "outputs": [],
   "source": [
    "dff = pd.DataFrame({'A':[1,2,3,4,5,10,11,12,13,15,20,50,70,100]})\n",
    "# pd.DataFrame({'A': [1,2,3,4,5,6,7,8,9])"
   ]
  },
  {
   "cell_type": "code",
   "execution_count": 106,
   "id": "3bedbedf",
   "metadata": {},
   "outputs": [
    {
     "data": {
      "text/html": [
       "<div>\n",
       "<style scoped>\n",
       "    .dataframe tbody tr th:only-of-type {\n",
       "        vertical-align: middle;\n",
       "    }\n",
       "\n",
       "    .dataframe tbody tr th {\n",
       "        vertical-align: top;\n",
       "    }\n",
       "\n",
       "    .dataframe thead th {\n",
       "        text-align: right;\n",
       "    }\n",
       "</style>\n",
       "<table border=\"1\" class=\"dataframe\">\n",
       "  <thead>\n",
       "    <tr style=\"text-align: right;\">\n",
       "      <th></th>\n",
       "      <th>A</th>\n",
       "    </tr>\n",
       "  </thead>\n",
       "  <tbody>\n",
       "    <tr>\n",
       "      <th>0</th>\n",
       "      <td>1</td>\n",
       "    </tr>\n",
       "    <tr>\n",
       "      <th>1</th>\n",
       "      <td>2</td>\n",
       "    </tr>\n",
       "    <tr>\n",
       "      <th>2</th>\n",
       "      <td>3</td>\n",
       "    </tr>\n",
       "    <tr>\n",
       "      <th>3</th>\n",
       "      <td>4</td>\n",
       "    </tr>\n",
       "    <tr>\n",
       "      <th>4</th>\n",
       "      <td>5</td>\n",
       "    </tr>\n",
       "    <tr>\n",
       "      <th>5</th>\n",
       "      <td>10</td>\n",
       "    </tr>\n",
       "    <tr>\n",
       "      <th>6</th>\n",
       "      <td>11</td>\n",
       "    </tr>\n",
       "    <tr>\n",
       "      <th>7</th>\n",
       "      <td>12</td>\n",
       "    </tr>\n",
       "    <tr>\n",
       "      <th>8</th>\n",
       "      <td>13</td>\n",
       "    </tr>\n",
       "    <tr>\n",
       "      <th>9</th>\n",
       "      <td>15</td>\n",
       "    </tr>\n",
       "    <tr>\n",
       "      <th>10</th>\n",
       "      <td>20</td>\n",
       "    </tr>\n",
       "    <tr>\n",
       "      <th>11</th>\n",
       "      <td>50</td>\n",
       "    </tr>\n",
       "    <tr>\n",
       "      <th>12</th>\n",
       "      <td>70</td>\n",
       "    </tr>\n",
       "    <tr>\n",
       "      <th>13</th>\n",
       "      <td>100</td>\n",
       "    </tr>\n",
       "  </tbody>\n",
       "</table>\n",
       "</div>"
      ],
      "text/plain": [
       "      A\n",
       "0     1\n",
       "1     2\n",
       "2     3\n",
       "3     4\n",
       "4     5\n",
       "5    10\n",
       "6    11\n",
       "7    12\n",
       "8    13\n",
       "9    15\n",
       "10   20\n",
       "11   50\n",
       "12   70\n",
       "13  100"
      ]
     },
     "execution_count": 106,
     "metadata": {},
     "output_type": "execute_result"
    }
   ],
   "source": [
    "dff"
   ]
  },
  {
   "cell_type": "code",
   "execution_count": 113,
   "id": "0c38ad5d",
   "metadata": {},
   "outputs": [],
   "source": [
    "dff['Am'] = dff['A']"
   ]
  },
  {
   "cell_type": "code",
   "execution_count": 114,
   "id": "047ab231",
   "metadata": {},
   "outputs": [
    {
     "data": {
      "text/html": [
       "<div>\n",
       "<style scoped>\n",
       "    .dataframe tbody tr th:only-of-type {\n",
       "        vertical-align: middle;\n",
       "    }\n",
       "\n",
       "    .dataframe tbody tr th {\n",
       "        vertical-align: top;\n",
       "    }\n",
       "\n",
       "    .dataframe thead th {\n",
       "        text-align: right;\n",
       "    }\n",
       "</style>\n",
       "<table border=\"1\" class=\"dataframe\">\n",
       "  <thead>\n",
       "    <tr style=\"text-align: right;\">\n",
       "      <th></th>\n",
       "      <th>A</th>\n",
       "      <th>Am</th>\n",
       "    </tr>\n",
       "  </thead>\n",
       "  <tbody>\n",
       "    <tr>\n",
       "      <th>0</th>\n",
       "      <td>1</td>\n",
       "      <td>1</td>\n",
       "    </tr>\n",
       "    <tr>\n",
       "      <th>1</th>\n",
       "      <td>2</td>\n",
       "      <td>2</td>\n",
       "    </tr>\n",
       "    <tr>\n",
       "      <th>2</th>\n",
       "      <td>3</td>\n",
       "      <td>3</td>\n",
       "    </tr>\n",
       "    <tr>\n",
       "      <th>3</th>\n",
       "      <td>4</td>\n",
       "      <td>4</td>\n",
       "    </tr>\n",
       "    <tr>\n",
       "      <th>4</th>\n",
       "      <td>5</td>\n",
       "      <td>5</td>\n",
       "    </tr>\n",
       "    <tr>\n",
       "      <th>5</th>\n",
       "      <td>10</td>\n",
       "      <td>10</td>\n",
       "    </tr>\n",
       "    <tr>\n",
       "      <th>6</th>\n",
       "      <td>11</td>\n",
       "      <td>11</td>\n",
       "    </tr>\n",
       "    <tr>\n",
       "      <th>7</th>\n",
       "      <td>12</td>\n",
       "      <td>12</td>\n",
       "    </tr>\n",
       "    <tr>\n",
       "      <th>8</th>\n",
       "      <td>13</td>\n",
       "      <td>13</td>\n",
       "    </tr>\n",
       "    <tr>\n",
       "      <th>9</th>\n",
       "      <td>15</td>\n",
       "      <td>15</td>\n",
       "    </tr>\n",
       "    <tr>\n",
       "      <th>10</th>\n",
       "      <td>20</td>\n",
       "      <td>20</td>\n",
       "    </tr>\n",
       "    <tr>\n",
       "      <th>11</th>\n",
       "      <td>50</td>\n",
       "      <td>50</td>\n",
       "    </tr>\n",
       "    <tr>\n",
       "      <th>12</th>\n",
       "      <td>70</td>\n",
       "      <td>70</td>\n",
       "    </tr>\n",
       "    <tr>\n",
       "      <th>13</th>\n",
       "      <td>100</td>\n",
       "      <td>100</td>\n",
       "    </tr>\n",
       "  </tbody>\n",
       "</table>\n",
       "</div>"
      ],
      "text/plain": [
       "      A   Am\n",
       "0     1    1\n",
       "1     2    2\n",
       "2     3    3\n",
       "3     4    4\n",
       "4     5    5\n",
       "5    10   10\n",
       "6    11   11\n",
       "7    12   12\n",
       "8    13   13\n",
       "9    15   15\n",
       "10   20   20\n",
       "11   50   50\n",
       "12   70   70\n",
       "13  100  100"
      ]
     },
     "execution_count": 114,
     "metadata": {},
     "output_type": "execute_result"
    }
   ],
   "source": [
    "dff"
   ]
  },
  {
   "cell_type": "code",
   "execution_count": 115,
   "id": "34e3fb80",
   "metadata": {},
   "outputs": [],
   "source": [
    "dff.loc[(dff.A > 5) & (dff.A < 20),'Am'] = np.nan"
   ]
  },
  {
   "cell_type": "code",
   "execution_count": 116,
   "id": "9c770a4f",
   "metadata": {},
   "outputs": [
    {
     "data": {
      "text/html": [
       "<div>\n",
       "<style scoped>\n",
       "    .dataframe tbody tr th:only-of-type {\n",
       "        vertical-align: middle;\n",
       "    }\n",
       "\n",
       "    .dataframe tbody tr th {\n",
       "        vertical-align: top;\n",
       "    }\n",
       "\n",
       "    .dataframe thead th {\n",
       "        text-align: right;\n",
       "    }\n",
       "</style>\n",
       "<table border=\"1\" class=\"dataframe\">\n",
       "  <thead>\n",
       "    <tr style=\"text-align: right;\">\n",
       "      <th></th>\n",
       "      <th>A</th>\n",
       "      <th>Am</th>\n",
       "    </tr>\n",
       "  </thead>\n",
       "  <tbody>\n",
       "    <tr>\n",
       "      <th>0</th>\n",
       "      <td>1</td>\n",
       "      <td>1.0</td>\n",
       "    </tr>\n",
       "    <tr>\n",
       "      <th>1</th>\n",
       "      <td>2</td>\n",
       "      <td>2.0</td>\n",
       "    </tr>\n",
       "    <tr>\n",
       "      <th>2</th>\n",
       "      <td>3</td>\n",
       "      <td>3.0</td>\n",
       "    </tr>\n",
       "    <tr>\n",
       "      <th>3</th>\n",
       "      <td>4</td>\n",
       "      <td>4.0</td>\n",
       "    </tr>\n",
       "    <tr>\n",
       "      <th>4</th>\n",
       "      <td>5</td>\n",
       "      <td>5.0</td>\n",
       "    </tr>\n",
       "    <tr>\n",
       "      <th>5</th>\n",
       "      <td>10</td>\n",
       "      <td>NaN</td>\n",
       "    </tr>\n",
       "    <tr>\n",
       "      <th>6</th>\n",
       "      <td>11</td>\n",
       "      <td>NaN</td>\n",
       "    </tr>\n",
       "    <tr>\n",
       "      <th>7</th>\n",
       "      <td>12</td>\n",
       "      <td>NaN</td>\n",
       "    </tr>\n",
       "    <tr>\n",
       "      <th>8</th>\n",
       "      <td>13</td>\n",
       "      <td>NaN</td>\n",
       "    </tr>\n",
       "    <tr>\n",
       "      <th>9</th>\n",
       "      <td>15</td>\n",
       "      <td>NaN</td>\n",
       "    </tr>\n",
       "    <tr>\n",
       "      <th>10</th>\n",
       "      <td>20</td>\n",
       "      <td>20.0</td>\n",
       "    </tr>\n",
       "    <tr>\n",
       "      <th>11</th>\n",
       "      <td>50</td>\n",
       "      <td>50.0</td>\n",
       "    </tr>\n",
       "    <tr>\n",
       "      <th>12</th>\n",
       "      <td>70</td>\n",
       "      <td>70.0</td>\n",
       "    </tr>\n",
       "    <tr>\n",
       "      <th>13</th>\n",
       "      <td>100</td>\n",
       "      <td>100.0</td>\n",
       "    </tr>\n",
       "  </tbody>\n",
       "</table>\n",
       "</div>"
      ],
      "text/plain": [
       "      A     Am\n",
       "0     1    1.0\n",
       "1     2    2.0\n",
       "2     3    3.0\n",
       "3     4    4.0\n",
       "4     5    5.0\n",
       "5    10    NaN\n",
       "6    11    NaN\n",
       "7    12    NaN\n",
       "8    13    NaN\n",
       "9    15    NaN\n",
       "10   20   20.0\n",
       "11   50   50.0\n",
       "12   70   70.0\n",
       "13  100  100.0"
      ]
     },
     "execution_count": 116,
     "metadata": {},
     "output_type": "execute_result"
    }
   ],
   "source": [
    "dff"
   ]
  },
  {
   "cell_type": "code",
   "execution_count": 94,
   "id": "47588616",
   "metadata": {},
   "outputs": [
    {
     "data": {
      "text/plain": [
       "0    False\n",
       "1    False\n",
       "2    False\n",
       "3    False\n",
       "4    False\n",
       "5    False\n",
       "6    False\n",
       "7    False\n",
       "8    False\n",
       "Name: A, dtype: bool"
      ]
     },
     "execution_count": 94,
     "metadata": {},
     "output_type": "execute_result"
    }
   ],
   "source": [
    "dff.A.isnull()"
   ]
  },
  {
   "cell_type": "code",
   "execution_count": 84,
   "id": "0ebb13d5",
   "metadata": {},
   "outputs": [
    {
     "ename": "NameError",
     "evalue": "name 'series' is not defined",
     "output_type": "error",
     "traceback": [
      "\u001b[0;31m---------------------------------------------------------------------------\u001b[0m",
      "\u001b[0;31mNameError\u001b[0m                                 Traceback (most recent call last)",
      "\u001b[0;32m/tmp/ipykernel_18919/3039452044.py\u001b[0m in \u001b[0;36m<module>\u001b[0;34m\u001b[0m\n\u001b[0;32m----> 1\u001b[0;31m \u001b[0mdff\u001b[0m\u001b[0;34m[\u001b[0m\u001b[0;34m'num'\u001b[0m\u001b[0;34m]\u001b[0m \u001b[0;34m=\u001b[0m \u001b[0mseries\u001b[0m\u001b[0;34m[\u001b[0m\u001b[0;36m1\u001b[0m\u001b[0;34m,\u001b[0m\u001b[0;36m2\u001b[0m\u001b[0;34m,\u001b[0m\u001b[0;36m3\u001b[0m\u001b[0;34m,\u001b[0m\u001b[0;36m4\u001b[0m\u001b[0;34m,\u001b[0m\u001b[0;36m5\u001b[0m\u001b[0;34m,\u001b[0m\u001b[0;36m20\u001b[0m\u001b[0;34m,\u001b[0m\u001b[0;36m50\u001b[0m\u001b[0;34m,\u001b[0m\u001b[0;36m70\u001b[0m\u001b[0;34m,\u001b[0m\u001b[0;36m100\u001b[0m\u001b[0;34m]\u001b[0m\u001b[0;34m\u001b[0m\u001b[0;34m\u001b[0m\u001b[0m\n\u001b[0m",
      "\u001b[0;31mNameError\u001b[0m: name 'series' is not defined"
     ]
    }
   ],
   "source": [
    "dff['num'] = series[1,2,3,4,5,20,50,70,100]"
   ]
  },
  {
   "cell_type": "code",
   "execution_count": 117,
   "id": "ba5a3d92",
   "metadata": {},
   "outputs": [],
   "source": [
    "pre = '_sm_hv'\n",
    "df = pd.read_csv(f\"/home/poyraden/Analysis/JOSIEfiles/Proccessed/Josie0910_calibrated{pre}.csv\", low_memory=False)"
   ]
  },
  {
   "cell_type": "code",
   "execution_count": 118,
   "id": "3ca7eff6",
   "metadata": {},
   "outputs": [],
   "source": [
    "dft = df[(df.Sim == 137) & (df.Team ==3)]"
   ]
  },
  {
   "cell_type": "code",
   "execution_count": 67,
   "id": "56ba1d85",
   "metadata": {},
   "outputs": [],
   "source": [
    "# print(list(dft))"
   ]
  },
  {
   "cell_type": "code",
   "execution_count": 68,
   "id": "4a8ab9f5",
   "metadata": {},
   "outputs": [],
   "source": [
    "# (RT1: 475-375 hPa, RT2: 100-85hPa, RT3: 20-15 hPa, RT4: 6-5 hPa)\n"
   ]
  },
  {
   "cell_type": "code",
   "execution_count": 69,
   "id": "282b4dcd",
   "metadata": {},
   "outputs": [],
   "source": [
    "# dftt = df.drop(df[df.score < 50].index)"
   ]
  },
  {
   "cell_type": "code",
   "execution_count": 122,
   "id": "520bada2",
   "metadata": {},
   "outputs": [
    {
     "name": "stderr",
     "output_type": "stream",
     "text": [
      "/home/poyraden/.local/lib/python3.7/site-packages/ipykernel_launcher.py:1: SettingWithCopyWarning: \n",
      "A value is trying to be set on a copy of a slice from a DataFrame.\n",
      "Try using .loc[row_indexer,col_indexer] = value instead\n",
      "\n",
      "See the caveats in the documentation: https://pandas.pydata.org/pandas-docs/stable/user_guide/indexing.html#returning-a-view-versus-a-copy\n",
      "  \"\"\"Entry point for launching an IPython kernel.\n",
      "/home/poyraden/.local/lib/python3.7/site-packages/ipykernel_launcher.py:2: SettingWithCopyWarning: \n",
      "A value is trying to be set on a copy of a slice from a DataFrame.\n",
      "Try using .loc[row_indexer,col_indexer] = value instead\n",
      "\n",
      "See the caveats in the documentation: https://pandas.pydata.org/pandas-docs/stable/user_guide/indexing.html#returning-a-view-versus-a-copy\n",
      "  \n"
     ]
    }
   ],
   "source": [
    "dft['Pairc'] = dft['Pair']\n",
    "dft['IMc'] = dft['IM']"
   ]
  },
  {
   "cell_type": "code",
   "execution_count": 129,
   "id": "f366bf06",
   "metadata": {},
   "outputs": [
    {
     "name": "stderr",
     "output_type": "stream",
     "text": [
      "/home/poyraden/.local/lib/python3.7/site-packages/pandas/core/indexing.py:1817: SettingWithCopyWarning: \n",
      "A value is trying to be set on a copy of a slice from a DataFrame.\n",
      "Try using .loc[row_indexer,col_indexer] = value instead\n",
      "\n",
      "See the caveats in the documentation: https://pandas.pydata.org/pandas-docs/stable/user_guide/indexing.html#returning-a-view-versus-a-copy\n",
      "  self._setitem_single_column(loc, value, pi)\n"
     ]
    }
   ],
   "source": [
    "dft.loc[((dft.Pair < 475) & (dft.Pair > 375)),'Pairc'] = np.nan\n",
    "dft.loc[((dft.Pair < 475) & (dft.Pair > 375)),'IMc'] = np.nan"
   ]
  },
  {
   "cell_type": "code",
   "execution_count": 130,
   "id": "28ec4f5d",
   "metadata": {},
   "outputs": [
    {
     "data": {
      "text/html": [
       "<div>\n",
       "<style scoped>\n",
       "    .dataframe tbody tr th:only-of-type {\n",
       "        vertical-align: middle;\n",
       "    }\n",
       "\n",
       "    .dataframe tbody tr th {\n",
       "        vertical-align: top;\n",
       "    }\n",
       "\n",
       "    .dataframe thead th {\n",
       "        text-align: right;\n",
       "    }\n",
       "</style>\n",
       "<table border=\"1\" class=\"dataframe\">\n",
       "  <thead>\n",
       "    <tr style=\"text-align: right;\">\n",
       "      <th></th>\n",
       "      <th>Pair</th>\n",
       "      <th>Pairc</th>\n",
       "      <th>IM</th>\n",
       "      <th>IMc</th>\n",
       "    </tr>\n",
       "  </thead>\n",
       "  <tbody>\n",
       "    <tr>\n",
       "      <th>73454</th>\n",
       "      <td>472.72100</td>\n",
       "      <td>NaN</td>\n",
       "      <td>0.588522</td>\n",
       "      <td>NaN</td>\n",
       "    </tr>\n",
       "    <tr>\n",
       "      <th>73455</th>\n",
       "      <td>473.83700</td>\n",
       "      <td>NaN</td>\n",
       "      <td>0.538054</td>\n",
       "      <td>NaN</td>\n",
       "    </tr>\n",
       "    <tr>\n",
       "      <th>73456</th>\n",
       "      <td>474.95300</td>\n",
       "      <td>NaN</td>\n",
       "      <td>0.520146</td>\n",
       "      <td>NaN</td>\n",
       "    </tr>\n",
       "    <tr>\n",
       "      <th>73457</th>\n",
       "      <td>472.16300</td>\n",
       "      <td>NaN</td>\n",
       "      <td>0.463980</td>\n",
       "      <td>NaN</td>\n",
       "    </tr>\n",
       "    <tr>\n",
       "      <th>73458</th>\n",
       "      <td>469.96800</td>\n",
       "      <td>NaN</td>\n",
       "      <td>0.447700</td>\n",
       "      <td>NaN</td>\n",
       "    </tr>\n",
       "    <tr>\n",
       "      <th>...</th>\n",
       "      <td>...</td>\n",
       "      <td>...</td>\n",
       "      <td>...</td>\n",
       "      <td>...</td>\n",
       "    </tr>\n",
       "    <tr>\n",
       "      <th>76152</th>\n",
       "      <td>5.79725</td>\n",
       "      <td>5.79725</td>\n",
       "      <td>1.294260</td>\n",
       "      <td>1.29426</td>\n",
       "    </tr>\n",
       "    <tr>\n",
       "      <th>76153</th>\n",
       "      <td>5.80214</td>\n",
       "      <td>5.80214</td>\n",
       "      <td>1.295070</td>\n",
       "      <td>1.29507</td>\n",
       "    </tr>\n",
       "    <tr>\n",
       "      <th>76154</th>\n",
       "      <td>5.75988</td>\n",
       "      <td>5.75988</td>\n",
       "      <td>1.306470</td>\n",
       "      <td>1.30647</td>\n",
       "    </tr>\n",
       "    <tr>\n",
       "      <th>76155</th>\n",
       "      <td>5.76826</td>\n",
       "      <td>5.76826</td>\n",
       "      <td>1.299960</td>\n",
       "      <td>1.29996</td>\n",
       "    </tr>\n",
       "    <tr>\n",
       "      <th>76156</th>\n",
       "      <td>5.77664</td>\n",
       "      <td>5.77664</td>\n",
       "      <td>1.291820</td>\n",
       "      <td>1.29182</td>\n",
       "    </tr>\n",
       "  </tbody>\n",
       "</table>\n",
       "<p>2703 rows × 4 columns</p>\n",
       "</div>"
      ],
      "text/plain": [
       "            Pair    Pairc        IM      IMc\n",
       "73454  472.72100      NaN  0.588522      NaN\n",
       "73455  473.83700      NaN  0.538054      NaN\n",
       "73456  474.95300      NaN  0.520146      NaN\n",
       "73457  472.16300      NaN  0.463980      NaN\n",
       "73458  469.96800      NaN  0.447700      NaN\n",
       "...          ...      ...       ...      ...\n",
       "76152    5.79725  5.79725  1.294260  1.29426\n",
       "76153    5.80214  5.80214  1.295070  1.29507\n",
       "76154    5.75988  5.75988  1.306470  1.30647\n",
       "76155    5.76826  5.76826  1.299960  1.29996\n",
       "76156    5.77664  5.77664  1.291820  1.29182\n",
       "\n",
       "[2703 rows x 4 columns]"
      ]
     },
     "execution_count": 130,
     "metadata": {},
     "output_type": "execute_result"
    }
   ],
   "source": [
    "dft[dft.Pair < 475][['Pair','Pairc','IM','IMc']]"
   ]
  },
  {
   "cell_type": "code",
   "execution_count": 132,
   "id": "2bbda14e",
   "metadata": {},
   "outputs": [],
   "source": [
    "dfs = dft[['Pair','Pairc','IM','IMc']].interpolate()"
   ]
  },
  {
   "cell_type": "code",
   "execution_count": 136,
   "id": "3f7e914f",
   "metadata": {},
   "outputs": [
    {
     "data": {
      "text/html": [
       "<div>\n",
       "<style scoped>\n",
       "    .dataframe tbody tr th:only-of-type {\n",
       "        vertical-align: middle;\n",
       "    }\n",
       "\n",
       "    .dataframe tbody tr th {\n",
       "        vertical-align: top;\n",
       "    }\n",
       "\n",
       "    .dataframe thead th {\n",
       "        text-align: right;\n",
       "    }\n",
       "</style>\n",
       "<table border=\"1\" class=\"dataframe\">\n",
       "  <thead>\n",
       "    <tr style=\"text-align: right;\">\n",
       "      <th></th>\n",
       "      <th>Pair</th>\n",
       "      <th>Pairc</th>\n",
       "      <th>IM</th>\n",
       "      <th>IMc</th>\n",
       "    </tr>\n",
       "  </thead>\n",
       "  <tbody>\n",
       "    <tr>\n",
       "      <th>73454</th>\n",
       "      <td>472.721</td>\n",
       "      <td>473.924806</td>\n",
       "      <td>0.588522</td>\n",
       "      <td>0.600141</td>\n",
       "    </tr>\n",
       "    <tr>\n",
       "      <th>73455</th>\n",
       "      <td>473.837</td>\n",
       "      <td>470.525613</td>\n",
       "      <td>0.538054</td>\n",
       "      <td>0.598329</td>\n",
       "    </tr>\n",
       "    <tr>\n",
       "      <th>73456</th>\n",
       "      <td>474.953</td>\n",
       "      <td>467.126419</td>\n",
       "      <td>0.520146</td>\n",
       "      <td>0.596518</td>\n",
       "    </tr>\n",
       "    <tr>\n",
       "      <th>73457</th>\n",
       "      <td>472.163</td>\n",
       "      <td>463.727226</td>\n",
       "      <td>0.463980</td>\n",
       "      <td>0.594706</td>\n",
       "    </tr>\n",
       "    <tr>\n",
       "      <th>73458</th>\n",
       "      <td>469.968</td>\n",
       "      <td>460.328032</td>\n",
       "      <td>0.447700</td>\n",
       "      <td>0.592894</td>\n",
       "    </tr>\n",
       "  </tbody>\n",
       "</table>\n",
       "</div>"
      ],
      "text/plain": [
       "          Pair       Pairc        IM       IMc\n",
       "73454  472.721  473.924806  0.588522  0.600141\n",
       "73455  473.837  470.525613  0.538054  0.598329\n",
       "73456  474.953  467.126419  0.520146  0.596518\n",
       "73457  472.163  463.727226  0.463980  0.594706\n",
       "73458  469.968  460.328032  0.447700  0.592894"
      ]
     },
     "execution_count": 136,
     "metadata": {},
     "output_type": "execute_result"
    }
   ],
   "source": [
    "dfs[dfs.Pair < 475][['Pair','Pairc','IM','IMc']][0:5]"
   ]
  },
  {
   "cell_type": "code",
   "execution_count": 142,
   "id": "159d7c34",
   "metadata": {},
   "outputs": [],
   "source": [
    "dfs2 = dft[['Pair','Pairc','IM','IMc']].interpolate(model='quadratic')"
   ]
  },
  {
   "cell_type": "code",
   "execution_count": 143,
   "id": "c7e2ccfb",
   "metadata": {},
   "outputs": [
    {
     "data": {
      "text/html": [
       "<div>\n",
       "<style scoped>\n",
       "    .dataframe tbody tr th:only-of-type {\n",
       "        vertical-align: middle;\n",
       "    }\n",
       "\n",
       "    .dataframe tbody tr th {\n",
       "        vertical-align: top;\n",
       "    }\n",
       "\n",
       "    .dataframe thead th {\n",
       "        text-align: right;\n",
       "    }\n",
       "</style>\n",
       "<table border=\"1\" class=\"dataframe\">\n",
       "  <thead>\n",
       "    <tr style=\"text-align: right;\">\n",
       "      <th></th>\n",
       "      <th>Pair</th>\n",
       "      <th>Pairc</th>\n",
       "      <th>IM</th>\n",
       "      <th>IMc</th>\n",
       "    </tr>\n",
       "  </thead>\n",
       "  <tbody>\n",
       "    <tr>\n",
       "      <th>73454</th>\n",
       "      <td>472.721</td>\n",
       "      <td>473.924806</td>\n",
       "      <td>0.588522</td>\n",
       "      <td>0.600141</td>\n",
       "    </tr>\n",
       "    <tr>\n",
       "      <th>73455</th>\n",
       "      <td>473.837</td>\n",
       "      <td>470.525613</td>\n",
       "      <td>0.538054</td>\n",
       "      <td>0.598329</td>\n",
       "    </tr>\n",
       "    <tr>\n",
       "      <th>73456</th>\n",
       "      <td>474.953</td>\n",
       "      <td>467.126419</td>\n",
       "      <td>0.520146</td>\n",
       "      <td>0.596518</td>\n",
       "    </tr>\n",
       "    <tr>\n",
       "      <th>73457</th>\n",
       "      <td>472.163</td>\n",
       "      <td>463.727226</td>\n",
       "      <td>0.463980</td>\n",
       "      <td>0.594706</td>\n",
       "    </tr>\n",
       "    <tr>\n",
       "      <th>73458</th>\n",
       "      <td>469.968</td>\n",
       "      <td>460.328032</td>\n",
       "      <td>0.447700</td>\n",
       "      <td>0.592894</td>\n",
       "    </tr>\n",
       "  </tbody>\n",
       "</table>\n",
       "</div>"
      ],
      "text/plain": [
       "          Pair       Pairc        IM       IMc\n",
       "73454  472.721  473.924806  0.588522  0.600141\n",
       "73455  473.837  470.525613  0.538054  0.598329\n",
       "73456  474.953  467.126419  0.520146  0.596518\n",
       "73457  472.163  463.727226  0.463980  0.594706\n",
       "73458  469.968  460.328032  0.447700  0.592894"
      ]
     },
     "execution_count": 143,
     "metadata": {},
     "output_type": "execute_result"
    }
   ],
   "source": [
    "dfs2[dfs2.Pair < 475][['Pair','Pairc','IM','IMc']][0:5]"
   ]
  },
  {
   "cell_type": "code",
   "execution_count": null,
   "id": "6eef9a3a",
   "metadata": {},
   "outputs": [],
   "source": []
  },
  {
   "cell_type": "code",
   "execution_count": null,
   "id": "04d0352a",
   "metadata": {},
   "outputs": [],
   "source": []
  },
  {
   "cell_type": "code",
   "execution_count": 40,
   "id": "edcfc270",
   "metadata": {},
   "outputs": [],
   "source": [
    "dft2 = dft[((dft.Pair > 475) |(dft.Pair < 375)) & ((dft.Pair > 100) |(dft.Pair < 85))& ((dft.Pair > 20) |(dft.Pair < 15)) & ((dft.Pair > 6) |(dft.Pair < 5))]"
   ]
  },
  {
   "cell_type": "code",
   "execution_count": null,
   "id": "b67400c4",
   "metadata": {},
   "outputs": [],
   "source": []
  },
  {
   "cell_type": "code",
   "execution_count": 43,
   "id": "0541aed1",
   "metadata": {},
   "outputs": [
    {
     "data": {
      "text/plain": [
       "73484    371.94900\n",
       "73485    372.60000\n",
       "73486    373.25100\n",
       "73487    373.90100\n",
       "73488    371.62400\n",
       "           ...    \n",
       "76097      6.02951\n",
       "76098      6.01555\n",
       "76099      6.02113\n",
       "76100      6.02672\n",
       "76104      6.00660\n",
       "Name: Pair, Length: 2390, dtype: float64"
      ]
     },
     "execution_count": 43,
     "metadata": {},
     "output_type": "execute_result"
    }
   ],
   "source": [
    "dft2[dft2.Pair < 475]['Pair']"
   ]
  },
  {
   "cell_type": "code",
   "execution_count": 46,
   "id": "08eca123",
   "metadata": {},
   "outputs": [
    {
     "data": {
      "text/plain": [
       "74373    84.37940\n",
       "74374    84.65900\n",
       "74375    84.93870\n",
       "74376    83.24330\n",
       "74377    83.48800\n",
       "           ...   \n",
       "76097     6.02951\n",
       "76098     6.01555\n",
       "76099     6.02113\n",
       "76100     6.02672\n",
       "76104     6.00660\n",
       "Name: Pair, Length: 1537, dtype: float64"
      ]
     },
     "execution_count": 46,
     "metadata": {},
     "output_type": "execute_result"
    }
   ],
   "source": [
    "dft2[dft2.Pair < 100]['Pair']"
   ]
  },
  {
   "cell_type": "code",
   "execution_count": 10,
   "id": "25cd9f27",
   "metadata": {},
   "outputs": [
    {
     "data": {
      "text/html": [
       "<div>\n",
       "<style scoped>\n",
       "    .dataframe tbody tr th:only-of-type {\n",
       "        vertical-align: middle;\n",
       "    }\n",
       "\n",
       "    .dataframe tbody tr th {\n",
       "        vertical-align: top;\n",
       "    }\n",
       "\n",
       "    .dataframe thead th {\n",
       "        text-align: right;\n",
       "    }\n",
       "</style>\n",
       "<table border=\"1\" class=\"dataframe\">\n",
       "  <thead>\n",
       "    <tr style=\"text-align: right;\">\n",
       "      <th></th>\n",
       "      <th>Pair</th>\n",
       "      <th>Tsim</th>\n",
       "      <th>IM</th>\n",
       "    </tr>\n",
       "  </thead>\n",
       "  <tbody>\n",
       "    <tr>\n",
       "      <th>72853</th>\n",
       "      <td>995.60600</td>\n",
       "      <td>902.0</td>\n",
       "      <td>0.997557</td>\n",
       "    </tr>\n",
       "    <tr>\n",
       "      <th>72854</th>\n",
       "      <td>994.14200</td>\n",
       "      <td>904.0</td>\n",
       "      <td>0.993080</td>\n",
       "    </tr>\n",
       "    <tr>\n",
       "      <th>72855</th>\n",
       "      <td>994.63000</td>\n",
       "      <td>906.0</td>\n",
       "      <td>0.991452</td>\n",
       "    </tr>\n",
       "    <tr>\n",
       "      <th>72856</th>\n",
       "      <td>995.11800</td>\n",
       "      <td>908.0</td>\n",
       "      <td>0.989010</td>\n",
       "    </tr>\n",
       "    <tr>\n",
       "      <th>72857</th>\n",
       "      <td>993.89800</td>\n",
       "      <td>910.0</td>\n",
       "      <td>0.981684</td>\n",
       "    </tr>\n",
       "    <tr>\n",
       "      <th>...</th>\n",
       "      <td>...</td>\n",
       "      <td>...</td>\n",
       "      <td>...</td>\n",
       "    </tr>\n",
       "    <tr>\n",
       "      <th>76152</th>\n",
       "      <td>5.79725</td>\n",
       "      <td>8092.0</td>\n",
       "      <td>1.294260</td>\n",
       "    </tr>\n",
       "    <tr>\n",
       "      <th>76153</th>\n",
       "      <td>5.80214</td>\n",
       "      <td>8094.0</td>\n",
       "      <td>1.295070</td>\n",
       "    </tr>\n",
       "    <tr>\n",
       "      <th>76154</th>\n",
       "      <td>5.75988</td>\n",
       "      <td>8096.0</td>\n",
       "      <td>1.306470</td>\n",
       "    </tr>\n",
       "    <tr>\n",
       "      <th>76155</th>\n",
       "      <td>5.76826</td>\n",
       "      <td>8098.0</td>\n",
       "      <td>1.299960</td>\n",
       "    </tr>\n",
       "    <tr>\n",
       "      <th>76156</th>\n",
       "      <td>5.77664</td>\n",
       "      <td>8100.0</td>\n",
       "      <td>1.291820</td>\n",
       "    </tr>\n",
       "  </tbody>\n",
       "</table>\n",
       "<p>3304 rows × 3 columns</p>\n",
       "</div>"
      ],
      "text/plain": [
       "            Pair    Tsim        IM\n",
       "72853  995.60600   902.0  0.997557\n",
       "72854  994.14200   904.0  0.993080\n",
       "72855  994.63000   906.0  0.991452\n",
       "72856  995.11800   908.0  0.989010\n",
       "72857  993.89800   910.0  0.981684\n",
       "...          ...     ...       ...\n",
       "76152    5.79725  8092.0  1.294260\n",
       "76153    5.80214  8094.0  1.295070\n",
       "76154    5.75988  8096.0  1.306470\n",
       "76155    5.76826  8098.0  1.299960\n",
       "76156    5.77664  8100.0  1.291820\n",
       "\n",
       "[3304 rows x 3 columns]"
      ]
     },
     "execution_count": 10,
     "metadata": {},
     "output_type": "execute_result"
    }
   ],
   "source": [
    "dft[['Pair','Tsim','IM']]"
   ]
  },
  {
   "cell_type": "code",
   "execution_count": 11,
   "id": "50a9592e",
   "metadata": {},
   "outputs": [
    {
     "data": {
      "text/html": [
       "<div>\n",
       "<style scoped>\n",
       "    .dataframe tbody tr th:only-of-type {\n",
       "        vertical-align: middle;\n",
       "    }\n",
       "\n",
       "    .dataframe tbody tr th {\n",
       "        vertical-align: top;\n",
       "    }\n",
       "\n",
       "    .dataframe thead th {\n",
       "        text-align: right;\n",
       "    }\n",
       "</style>\n",
       "<table border=\"1\" class=\"dataframe\">\n",
       "  <thead>\n",
       "    <tr style=\"text-align: right;\">\n",
       "      <th></th>\n",
       "      <th>Pair</th>\n",
       "      <th>Tsim</th>\n",
       "      <th>IM</th>\n",
       "    </tr>\n",
       "  </thead>\n",
       "  <tbody>\n",
       "    <tr>\n",
       "      <th>0</th>\n",
       "      <td>995.42300</td>\n",
       "      <td>902.0</td>\n",
       "      <td>0.981684</td>\n",
       "    </tr>\n",
       "    <tr>\n",
       "      <th>1</th>\n",
       "      <td>995.48400</td>\n",
       "      <td>904.0</td>\n",
       "      <td>0.978428</td>\n",
       "    </tr>\n",
       "    <tr>\n",
       "      <th>2</th>\n",
       "      <td>995.54500</td>\n",
       "      <td>906.0</td>\n",
       "      <td>0.978428</td>\n",
       "    </tr>\n",
       "    <tr>\n",
       "      <th>3</th>\n",
       "      <td>995.36200</td>\n",
       "      <td>908.0</td>\n",
       "      <td>0.981684</td>\n",
       "    </tr>\n",
       "    <tr>\n",
       "      <th>4</th>\n",
       "      <td>993.27100</td>\n",
       "      <td>910.0</td>\n",
       "      <td>0.980056</td>\n",
       "    </tr>\n",
       "    <tr>\n",
       "      <th>...</th>\n",
       "      <td>...</td>\n",
       "      <td>...</td>\n",
       "      <td>...</td>\n",
       "    </tr>\n",
       "    <tr>\n",
       "      <th>271734</th>\n",
       "      <td>5.74974</td>\n",
       "      <td>8092.0</td>\n",
       "      <td>1.320310</td>\n",
       "    </tr>\n",
       "    <tr>\n",
       "      <th>271735</th>\n",
       "      <td>5.75044</td>\n",
       "      <td>8094.0</td>\n",
       "      <td>1.319900</td>\n",
       "    </tr>\n",
       "    <tr>\n",
       "      <th>271736</th>\n",
       "      <td>5.72530</td>\n",
       "      <td>8096.0</td>\n",
       "      <td>1.299960</td>\n",
       "    </tr>\n",
       "    <tr>\n",
       "      <th>271737</th>\n",
       "      <td>5.73298</td>\n",
       "      <td>8098.0</td>\n",
       "      <td>1.286930</td>\n",
       "    </tr>\n",
       "    <tr>\n",
       "      <th>271738</th>\n",
       "      <td>5.74066</td>\n",
       "      <td>8100.0</td>\n",
       "      <td>1.294260</td>\n",
       "    </tr>\n",
       "  </tbody>\n",
       "</table>\n",
       "<p>271739 rows × 3 columns</p>\n",
       "</div>"
      ],
      "text/plain": [
       "             Pair    Tsim        IM\n",
       "0       995.42300   902.0  0.981684\n",
       "1       995.48400   904.0  0.978428\n",
       "2       995.54500   906.0  0.978428\n",
       "3       995.36200   908.0  0.981684\n",
       "4       993.27100   910.0  0.980056\n",
       "...           ...     ...       ...\n",
       "271734    5.74974  8092.0  1.320310\n",
       "271735    5.75044  8094.0  1.319900\n",
       "271736    5.72530  8096.0  1.299960\n",
       "271737    5.73298  8098.0  1.286930\n",
       "271738    5.74066  8100.0  1.294260\n",
       "\n",
       "[271739 rows x 3 columns]"
      ]
     },
     "execution_count": 11,
     "metadata": {},
     "output_type": "execute_result"
    }
   ],
   "source": [
    "df[['Pair','Tsim','IM']]"
   ]
  },
  {
   "cell_type": "code",
   "execution_count": 20,
   "id": "02f2d8de",
   "metadata": {},
   "outputs": [
    {
     "name": "stdout",
     "output_type": "stream",
     "text": [
      "995.423 5.74066 999.72 5.49373\n"
     ]
    }
   ],
   "source": [
    "start = df.at[df.first_valid_index(),'Pair']\n",
    "end = df.at[df.last_valid_index(),'Pair']\n",
    "print(start, end, df.Pair.max(), df.Pair.min())"
   ]
  },
  {
   "cell_type": "code",
   "execution_count": 37,
   "id": "1d0a35d6",
   "metadata": {},
   "outputs": [
    {
     "name": "stdout",
     "output_type": "stream",
     "text": [
      "[1000, 980.0, 960.4, 941.192, 922.36816, 903.9207968, 885.8423808639999, 868.1255332467199, 850.7630225817854, 833.7477621301497, 817.0728068875467, 800.7313507497958, 784.7167237347999, 769.0223892601039, 753.6419414749017, 738.5691026454036, 723.7977205924956, 709.3217661806457, 695.1353308570327, 681.2326242398921, 667.6079717550942, 654.2558123199923, 641.1706960735925, 628.3472821521206, 615.7803365090781, 603.4647297788965, 591.3954351833186, 579.5675264796522, 567.9761759500592, 556.616652431058, 545.4843193824369, 534.5746329947881, 523.8831403348923, 513.4054775281945, 503.1373679776306, 493.074620618078, 483.21312820571643, 473.5488656416021, 464.07788832877003, 454.7963305621946, 445.7004039509507, 436.7863958719317, 428.05066795449306, 419.4896545954032, 411.0998615034951, 402.8778642734252, 394.82030698795666, 386.9239008481975, 379.18542283123355, 371.6017143746089, 364.1696800871167, 356.8862864853744, 349.7485607556669, 342.75358954055355, 335.8985177497425, 329.18054739474763, 322.5969364468527, 316.1449977179156, 309.8220977635573, 303.6256558082861, 297.5531426921204, 291.602079838278, 285.7700382415124, 280.05463747668216, 274.45354472714854, 268.96447383260556, 263.58518435595346, 258.31348066883436, 253.14721105545766, 248.0842668343485, 243.12258149766154, 238.26012986770832, 233.49492727035414, 228.82502872494706, 224.24852815044812, 219.76355758743915, 215.36828643569038, 211.06092070697656, 206.83970229283702, 202.7029082469803, 198.64885008204067, 194.67587308039984, 190.78235561879183, 186.96670850641598, 183.22737433628765, 179.5628268495619, 175.97157031257066, 172.45213890631925, 169.00309612819285, 165.62303420562898, 162.3105735215164, 159.06436205108608, 155.88307481006436, 152.76541331386306, 149.7101050475858, 146.7159029466341, 143.7815848877014, 140.90595318994738, 138.08783412614844, 135.32607744362548, 132.61955589475298, 129.9671647768579, 127.36782148132075, 124.82046505169433, 122.32405575066043, 119.87757463564722, 117.48002314293427, 115.13042268007558, 112.82781422647408, 110.5712579419446, 108.3598327831057, 106.19263612744359, 104.06878340489472, 101.98740773679683, 99.9476595820609, 97.94870639041967, 95.98973226261128, 94.06993761735906, 92.18853886501188, 90.34476808771164, 88.53787272595741, 86.76711527143826, 85.03177296600948, 83.33113750668929, 81.6645147565555, 80.03122446142439, 78.43059997219589, 76.86198797275198, 75.32474821329693, 73.81825324903099, 72.34188818405036, 70.89505042036936, 69.47714941196197, 68.08760642372273, 66.72585429524828, 65.39133720934332, 64.08351046515645, 62.80184025585332, 61.54580345073625, 60.314887381721526, 59.108589634087096, 57.92641784140535, 56.767889484577246, 55.6325316948857, 54.519881060987984, 53.42948343976823, 52.36089377097286, 51.3136758955534, 50.28740237764233, 49.28165433008948, 48.296021243487694, 47.330100818617936, 46.383498802245576, 45.455828826200666, 44.54671224967665, 43.65577800468312, 42.782662444589455, 41.927009195697664, 41.08846901178371, 40.266699631548036, 39.46136563891707, 38.67213832613873, 37.89869555961595, 37.14072164842363, 36.397907215455156, 35.66994907114605, 34.95655008972313, 34.25741908792867, 33.572270706170094, 32.90082529204669, 32.24280878620576, 31.59795261048164, 30.965993558272007, 30.346673687106566, 29.739740213364435, 29.144945409097147, 28.562046500915205, 27.9908055708969, 27.430989459478962, 26.882369670289382, 26.344722276883594, 25.817827831345923, 25.301471274719002, 24.795441849224623, 24.29953301224013, 23.813542351995327, 23.33727150495542, 22.87052607485631, 22.413115553359184, 21.964853242292, 21.525556177446163, 21.095045053897238, 20.673144152819294, 20.259681269762908, 19.854487644367648, 19.457397891480294, 19.068249933650687, 18.686884934977673, 18.31314723627812, 17.946884291552557, 17.587946605721505, 17.236187673607073, 16.89146392013493, 16.553634641732234, 16.22256194889759, 15.898110709919637, 15.580148495721243, 15.268545525806818, 14.963174615290681, 14.663911122984867, 14.37063290052517, 14.083220242514665, 13.801555837664372, 13.525524720911084, 13.255014226492863, 12.989913941963005, 12.730115663123744, 12.475513349861268, 12.226003082864043, 11.981483021206762, 11.741853360782626, 11.507016293566974, 11.276875967695634, 11.05133844834172, 10.830311679374885, 10.613705445787387, 10.401431336871639, 10.193402710134206, 9.989534655931521, 9.78974396281289, 9.593949083556632, 9.4020701018855, 9.21402869984779, 9.029748125850833, 8.849153163333817, 8.67217010006714, 8.498726698065797, 8.32875216410448, 8.162177120822392, 7.998933578405944, 7.838954906837825, 7.682175808701068, 7.528532292527046, 7.377961646676505, 7.230402413742975, 7.085794365468115, 6.944078478158753, 6.805196908595578, 6.669092970423666, 6.535711111015193, 6.404996888794889, 6.276896951018991, 6.151359011998611, 6.0283318317586385, 6]\n"
     ]
    }
   ],
   "source": [
    "start_value = 1000\n",
    "end_value = 6\n",
    "decrease_percent = 0.02\n",
    "\n",
    "x_values = [start_value]\n",
    "value = start_value\n",
    "\n",
    "while value > end_value:\n",
    "    value = value * (1 - decrease_percent)\n",
    "    if value < end_value:\n",
    "        value = end_value\n",
    "    x_values.append(value)\n",
    "\n",
    "print(x_values)\n"
   ]
  },
  {
   "cell_type": "code",
   "execution_count": 22,
   "id": "9bff26bf",
   "metadata": {},
   "outputs": [
    {
     "data": {
      "text/plain": [
       "96.04"
      ]
     },
     "execution_count": 22,
     "metadata": {},
     "output_type": "execute_result"
    }
   ],
   "source": [
    "98 - (98*0.02)"
   ]
  },
  {
   "cell_type": "code",
   "execution_count": 27,
   "id": "b3a1b97b",
   "metadata": {},
   "outputs": [
    {
     "data": {
      "text/plain": [
       "(0    995.423\n",
       " 1    995.484\n",
       " 2    995.545\n",
       " 3    995.362\n",
       " 4    993.271\n",
       " Name: Pair, dtype: float64,\n",
       " 0        NaN\n",
       " 1    995.423\n",
       " 2    995.484\n",
       " 3    995.545\n",
       " 4    995.362\n",
       " Name: Pair, dtype: float64,\n",
       " 0    995.484\n",
       " 1    995.545\n",
       " 2    995.362\n",
       " 3    993.271\n",
       " 4    994.107\n",
       " Name: Pair, dtype: float64,\n",
       " 0        NaN\n",
       " 1    995.423\n",
       " 2    995.484\n",
       " 3    995.545\n",
       " 4    995.362\n",
       " Name: Pair, dtype: float64)"
      ]
     },
     "execution_count": 27,
     "metadata": {},
     "output_type": "execute_result"
    }
   ],
   "source": [
    "df.Pair[0:5], df['Pair'].shift()[0:5], df[\"Pair\"].shift(-1)[0:5], df[\"Pair\"].shift(1)[0:5], "
   ]
  },
  {
   "cell_type": "code",
   "execution_count": 29,
   "id": "99de1148",
   "metadata": {},
   "outputs": [
    {
     "name": "stderr",
     "output_type": "stream",
     "text": [
      "/home/poyraden/.local/lib/python3.7/site-packages/ipykernel_launcher.py:1: SettingWithCopyWarning: \n",
      "A value is trying to be set on a copy of a slice from a DataFrame.\n",
      "Try using .loc[row_indexer,col_indexer] = value instead\n",
      "\n",
      "See the caveats in the documentation: https://pandas.pydata.org/pandas-docs/stable/user_guide/indexing.html#returning-a-view-versus-a-copy\n",
      "  \"\"\"Entry point for launching an IPython kernel.\n"
     ]
    }
   ],
   "source": [
    "df['pnew'] = df['Pair'] - (df['Pair'].shift()*0.02)"
   ]
  },
  {
   "cell_type": "code",
   "execution_count": 30,
   "id": "4c3dde1a",
   "metadata": {},
   "outputs": [
    {
     "data": {
      "text/html": [
       "<div>\n",
       "<style scoped>\n",
       "    .dataframe tbody tr th:only-of-type {\n",
       "        vertical-align: middle;\n",
       "    }\n",
       "\n",
       "    .dataframe tbody tr th {\n",
       "        vertical-align: top;\n",
       "    }\n",
       "\n",
       "    .dataframe thead th {\n",
       "        text-align: right;\n",
       "    }\n",
       "</style>\n",
       "<table border=\"1\" class=\"dataframe\">\n",
       "  <thead>\n",
       "    <tr style=\"text-align: right;\">\n",
       "      <th></th>\n",
       "      <th>Pair</th>\n",
       "      <th>pnew</th>\n",
       "    </tr>\n",
       "  </thead>\n",
       "  <tbody>\n",
       "    <tr>\n",
       "      <th>0</th>\n",
       "      <td>995.42300</td>\n",
       "      <td>NaN</td>\n",
       "    </tr>\n",
       "    <tr>\n",
       "      <th>1</th>\n",
       "      <td>995.48400</td>\n",
       "      <td>975.575540</td>\n",
       "    </tr>\n",
       "    <tr>\n",
       "      <th>2</th>\n",
       "      <td>995.54500</td>\n",
       "      <td>975.635320</td>\n",
       "    </tr>\n",
       "    <tr>\n",
       "      <th>3</th>\n",
       "      <td>995.36200</td>\n",
       "      <td>975.451100</td>\n",
       "    </tr>\n",
       "    <tr>\n",
       "      <th>4</th>\n",
       "      <td>993.27100</td>\n",
       "      <td>973.363760</td>\n",
       "    </tr>\n",
       "    <tr>\n",
       "      <th>...</th>\n",
       "      <td>...</td>\n",
       "      <td>...</td>\n",
       "    </tr>\n",
       "    <tr>\n",
       "      <th>271734</th>\n",
       "      <td>5.74974</td>\n",
       "      <td>5.634759</td>\n",
       "    </tr>\n",
       "    <tr>\n",
       "      <th>271735</th>\n",
       "      <td>5.75044</td>\n",
       "      <td>5.635445</td>\n",
       "    </tr>\n",
       "    <tr>\n",
       "      <th>271736</th>\n",
       "      <td>5.72530</td>\n",
       "      <td>5.610291</td>\n",
       "    </tr>\n",
       "    <tr>\n",
       "      <th>271737</th>\n",
       "      <td>5.73298</td>\n",
       "      <td>5.618474</td>\n",
       "    </tr>\n",
       "    <tr>\n",
       "      <th>271738</th>\n",
       "      <td>5.74066</td>\n",
       "      <td>5.626000</td>\n",
       "    </tr>\n",
       "  </tbody>\n",
       "</table>\n",
       "<p>271643 rows × 2 columns</p>\n",
       "</div>"
      ],
      "text/plain": [
       "             Pair        pnew\n",
       "0       995.42300         NaN\n",
       "1       995.48400  975.575540\n",
       "2       995.54500  975.635320\n",
       "3       995.36200  975.451100\n",
       "4       993.27100  973.363760\n",
       "...           ...         ...\n",
       "271734    5.74974    5.634759\n",
       "271735    5.75044    5.635445\n",
       "271736    5.72530    5.610291\n",
       "271737    5.73298    5.618474\n",
       "271738    5.74066    5.626000\n",
       "\n",
       "[271643 rows x 2 columns]"
      ]
     },
     "execution_count": 30,
     "metadata": {},
     "output_type": "execute_result"
    }
   ],
   "source": [
    "df[['Pair','pnew']]"
   ]
  },
  {
   "cell_type": "code",
   "execution_count": null,
   "id": "e7d85504",
   "metadata": {},
   "outputs": [],
   "source": []
  }
 ],
 "metadata": {
  "kernelspec": {
   "display_name": "Python 3 (ipykernel)",
   "language": "python",
   "name": "python3"
  },
  "language_info": {
   "codemirror_mode": {
    "name": "ipython",
    "version": 3
   },
   "file_extension": ".py",
   "mimetype": "text/x-python",
   "name": "python",
   "nbconvert_exporter": "python",
   "pygments_lexer": "ipython3",
   "version": "3.7.3"
  }
 },
 "nbformat": 4,
 "nbformat_minor": 5
}
