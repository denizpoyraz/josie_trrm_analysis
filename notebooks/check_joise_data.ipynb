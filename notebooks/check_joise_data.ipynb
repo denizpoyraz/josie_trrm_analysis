{
 "cells": [
  {
   "cell_type": "code",
   "execution_count": 1,
   "id": "9bf4308d",
   "metadata": {},
   "outputs": [],
   "source": [
    "import pandas as pd\n"
   ]
  },
  {
   "cell_type": "code",
   "execution_count": 2,
   "id": "95d51815",
   "metadata": {},
   "outputs": [],
   "source": [
    "df96 = pd.read_csv(f\"/home/poyraden/Analysis/JOSIEfiles/Proccessed/Josie9602_Data_2023paper.csv\", low_memory=False)\n"
   ]
  },
  {
   "cell_type": "code",
   "execution_count": 4,
   "id": "33de23da",
   "metadata": {},
   "outputs": [
    {
     "name": "stdout",
     "output_type": "stream",
     "text": [
      "['Unnamed: 0', 'Unnamed: 0.1', 'RecNr', 'Time', 'Tsim', 'Pair', 'Tair', 'Temp_TMC_Ist_1', 'Altitude', 'PO3_OPM', 'I_Sonde', 'T_Sonde', 'PO3_Sonde_raw', 'PO3_Sonde_Corr', 'PO3_Sonde_TCO3', 'O3_Col_corr', 'O3_Col_OPM', 'Valid', 'Sim', 'Team', 'PF_min', 'iB', 'TOCS', 'TOCO', 'PF', 'PFcor', 'TPext', 'IM', 'unc_Tpump', 'Tpump_cor', 'unc_Tpump_cor', 'deltat', 'unc_deltat', 'deltat_ppi', 'unc_deltat_ppi', 'Sol', 'Buf', 'ENSCI', 'iB0', 'iB1', 'ib1-ib0', 'Cpf_kom', 'unc_Cpf_kom', 'Cpf', 'unc_Cpf', 'plog', 'Cpf_jma', 'unc_Cpf_jma', 'PFcor_kom', 'PFcor_jma', 'I_OPM_jma', 'I_OPM_kom', 'PO3_calc', 'PO3_dqa', 'JOSIE_Nr', 'PO3', 'TPint', 'I_conv_slow', 'R1_Tstart', 'R1_Tstop', 'R2_Tstart', 'R2_Tstop', 'SST_Nr', 'SondeTypeNr']\n"
     ]
    }
   ],
   "source": [
    "print(list(df96))"
   ]
  },
  {
   "cell_type": "code",
   "execution_count": 5,
   "id": "007c5a05",
   "metadata": {},
   "outputs": [],
   "source": [
    "df09 = pd.read_csv(f\"/home/poyraden/Analysis/JOSIEfiles/Proccessed/Josie0910_Data_2023paper.csv\", low_memory=False)\n"
   ]
  },
  {
   "cell_type": "code",
   "execution_count": 7,
   "id": "156170a0",
   "metadata": {},
   "outputs": [
    {
     "name": "stdout",
     "output_type": "stream",
     "text": [
      "['Unnamed: 0', 'Unnamed: 0.1', 'Tact', 'Tsim', 'Pair', 'Tair', 'Tinlet', 'IM', 'TPint', 'TPext', 'PFcor', 'I_Pump', 'PO3', 'VMRO3', 'PO3_OPM', 'VMRO3_OPM', 'ADif_PO3S', 'RDif_PO3S', 'Z', 'Header_Team', 'Header_Sim', 'Header_PFunc', 'Header_PFcor', 'Header_IB1', 'Year', 'Sim', 'Team', 'Code', 'Flow', 'IB1', 'Cor', 'ENSCI', 'Sol', 'Buf', 'ADX', 'Simib', 'Teamib', 'Yearib', 'iB0', 'iB1', 'iB2', 'Simm', 'Teamm', 'Mspre', 'Mspost', 'Diff', 'unc_Tpump', 'Tpump_cor', 'unc_Tpump_cor', 'deltat', 'unc_deltat', 'deltat_ppi', 'unc_deltat_ppi', 'Cpf_kom', 'unc_Cpf_kom', 'Cpf', 'unc_Cpf', 'plog', 'Cpf_jma', 'unc_Cpf_jma', 'PFcor_kom', 'PFcor_jma', 'I_OPM_jma', 'I_OPM_kom', 'PO3_calc', 'PO3_dqa', 'I_conv_slow', 'I_conv_slow_komhyr']\n"
     ]
    }
   ],
   "source": [
    "print(list(df09))"
   ]
  },
  {
   "cell_type": "code",
   "execution_count": null,
   "id": "3584bb3c",
   "metadata": {},
   "outputs": [],
   "source": []
  }
 ],
 "metadata": {
  "kernelspec": {
   "display_name": "Python 3 (ipykernel)",
   "language": "python",
   "name": "python3"
  },
  "language_info": {
   "codemirror_mode": {
    "name": "ipython",
    "version": 3
   },
   "file_extension": ".py",
   "mimetype": "text/x-python",
   "name": "python",
   "nbconvert_exporter": "python",
   "pygments_lexer": "ipython3",
   "version": "3.7.3"
  }
 },
 "nbformat": 4,
 "nbformat_minor": 5
}
