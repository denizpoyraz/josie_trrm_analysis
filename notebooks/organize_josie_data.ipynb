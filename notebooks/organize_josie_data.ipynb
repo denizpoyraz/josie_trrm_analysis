{
 "cells": [
  {
   "cell_type": "code",
   "execution_count": 1,
   "id": "fbc18839",
   "metadata": {},
   "outputs": [],
   "source": [
    "import numpy as np\n",
    "import pandas as pd"
   ]
  },
  {
   "cell_type": "code",
   "execution_count": 42,
   "id": "597dfc70",
   "metadata": {},
   "outputs": [],
   "source": [
    "pre = '_sm_hv'"
   ]
  },
  {
   "cell_type": "code",
   "execution_count": 47,
   "id": "d5f71716",
   "metadata": {},
   "outputs": [],
   "source": [
    "df1 = pd.read_csv(f\"/home/poyraden/Analysis/JOSIEfiles/Proccessed/\"\n",
    "                    f\"Josie0910_deconv_2023_unitedpaper{pre}.csv\",low_memory=False)"
   ]
  },
  {
   "cell_type": "code",
   "execution_count": 48,
   "id": "8f4269be",
   "metadata": {},
   "outputs": [
    {
     "name": "stdout",
     "output_type": "stream",
     "text": [
      "['Unnamed: 0', 'Sim', 'Team', 'iB0', 'iB1', 'iB2', 'ENSCI', 'Sol', 'ADX', 'Buf', 'PO3', 'PO3_OPM', 'Tsim', 'Pair', 'IM', 'I_OPM_kom', 'I_OPM_jma', 'PFcor', 'TPext', 'Tpump_cor', 'unc_Tpump_cor', 'unc_Tpump', 'Tpump_cor.1', 'unc_Tpump_cor.1', 'deltat', 'unc_deltat', 'deltat_ppi', 'unc_deltat_ppi', 'Cpf_kom', 'unc_Cpf_kom', 'Cpf', 'unc_Cpf', 'Cpf_jma', 'unc_Cpf_jma', 'PFcor_kom', 'PFcor_jma', 'PO3_calc', 'PO3_dqa', 'I_slow_conv_ib1_decay', 'Ifast_minib0_deconv', 'Ifast_minib0_deconv_ib1_decay', 'Ifast_minib0', 'Ifast_minib0_ib1_decay', 'Islow_conv', 'Ifast_deconv_ib1_decay']\n"
     ]
    }
   ],
   "source": [
    "print(list(df1))"
   ]
  },
  {
   "cell_type": "code",
   "execution_count": 46,
   "id": "a3a34f43",
   "metadata": {},
   "outputs": [],
   "source": [
    "df2 = pd.read_csv(f\"/home/poyraden/Analysis/JOSIEfiles/Proccessed/Josie0910_calibrated{pre}.csv\",low_memory=False)"
   ]
  },
  {
   "cell_type": "code",
   "execution_count": 49,
   "id": "ad483da9",
   "metadata": {},
   "outputs": [
    {
     "name": "stdout",
     "output_type": "stream",
     "text": [
      "['Unnamed: 0', 'Unnamed: 0.1', 'Sim', 'Team', 'iB0', 'iB1', 'iB2', 'ENSCI', 'Sol', 'ADX', 'Buf', 'PO3', 'PO3_OPM', 'Tsim', 'Pair', 'IM', 'I_OPM_kom', 'I_OPM_jma', 'PFcor', 'TPext', 'Tpump_cor', 'unc_Tpump_cor', 'unc_Tpump', 'Tpump_cor.1', 'unc_Tpump_cor.1', 'deltat', 'unc_deltat', 'deltat_ppi', 'unc_deltat_ppi', 'Cpf_kom', 'unc_Cpf_kom', 'Cpf', 'unc_Cpf', 'Cpf_jma', 'unc_Cpf_jma', 'PFcor_kom', 'PFcor_jma', 'PO3_calc', 'PO3_dqa', 'I_slow_conv_ib1_decay', 'Ifast_minib0_deconv', 'Ifast_minib0_deconv_ib1_decay', 'Ifast_minib0', 'Ifast_minib0_ib1_decay', 'Islow_conv', 'Ifast_deconv_ib1_decay', 'Ifast_minib0_deconv_sm10', 'Year', 'Unnamed: 0.1.1', 'index', 'Tact', 'Tair', 'Tinlet', 'TPint', 'I_Pump', 'VMRO3', 'VMRO3_OPM', 'ADif_PO3S', 'RDif_PO3S', 'Z', 'Header_Team', 'Header_Sim', 'Header_PFunc', 'Header_PFcor', 'Header_IB1', 'Simulator_RunNr', 'Date', 'Ini_Prep_Date', 'Prep_SOP', 'SerialNr', 'SerNr', 'Date_1', 'SondeAge', 'Solutions', 'Volume_Cathode', 'ByPass_Cell', 'Current_10min_after_noO3', 'Resp_Time_4_1p5_sec', 'RespTime_1minOver2min', 'Final_BG', 'T100', 'mlOvermin', 'T100_post', 'mlOverminp1', 'RespTime_4_1p5_sec_p1', 'RespTime_1minOver2min_microamps', 'PostTestSolution_Lost_gr', 'PumpMotorCurrent', 'PumpMotorCurrent_Post', 'PF_Unc', 'PF_Cor', 'BG', 'plog', 'Tcell', 'TcellC', 'Pw', 'massloss', 'Tboil', 'total_massloss', 'I_conv_slow', 'I_conv_slow_komhyr', 'IMminusIB0', 'tmp', 'IM_gsm', 'IMminusIB0_gsm', 'Islow', 'Ifast', 'Ifast_deconv', 'ADif', 'RDif', 'ADif_cor', 'RDif_cor', 'PO3_cor', 'ADif_pre', 'RDif_pre', 'ADif_pre_cor', 'RDif_pre_cor', 'IminusiB1', 'R', 'I_corrected', 'ADif_cal', 'RDif_cal']\n"
     ]
    }
   ],
   "source": [
    "print(list(df2))"
   ]
  },
  {
   "cell_type": "code",
   "execution_count": 50,
   "id": "cba9c55f",
   "metadata": {},
   "outputs": [],
   "source": [
    "dfa = pd.read_csv(f\"/home/poyraden/Analysis/JOSIEfiles/Proccessed/Josie0910_Deconv_preparationadded_all_2023paper{pre}.csv\")"
   ]
  },
  {
   "cell_type": "code",
   "execution_count": 51,
   "id": "fe283166",
   "metadata": {},
   "outputs": [
    {
     "name": "stdout",
     "output_type": "stream",
     "text": [
      "['Unnamed: 0', 'Unnamed: 0.1', 'index', 'Tact', 'Tsys', 'Sim', 'TimeBool', 'TimeTag', 'IM', 'Team', 'I_OPM_kom', 'I_OPM_jma', 'iB0', 'iB1', 'iB2', 'ENSCI', 'Sol', 'Buf', 'ADX', 'Tsim', 'Pair', 'TPext', 'PFcor', 'PO3', 'PO3_OPM', 'Year', 'unc_Tpump', 'Tpump_cor', 'unc_Tpump_cor', 'deltat', 'unc_deltat', 'deltat_ppi', 'unc_deltat_ppi', 'Cpf_kom', 'unc_Cpf_kom', 'Cpf', 'unc_Cpf', 'plog', 'Cpf_jma', 'unc_Cpf_jma', 'PFcor_kom', 'PFcor_jma', 'PO3_calc', 'PO3_dqa', 'Time_ts', 'Time_all', 'Tsim_original', 'Tsim_pctime', 'PF', 'TS', 'IMminusIB0', 'Tsim_min', 'decay_time', 'tmp', 'IM_gsm', 'IMminusIB0_gsm', 'i_at_timeib1', 'time_ib1', 'start_flight', 'I_slow', 'I_slow_conv', 'I_fast', 'Ifast_minib0', 'Ifast_deconv', 'Ifast_minib0_deconv', 'Ifast_minib0_deconv_sm10', 'I_slow_conv_ib1_decay_all', 'I_fast_ib1_decay_all', 'Ifast_minib0_ib1_decay_all', 'Ifast_deconv_ib1_decay_all', 'Ifast_minib0_deconv_ib1_decay_all']\n"
     ]
    }
   ],
   "source": [
    "print(list(dfa))"
   ]
  },
  {
   "cell_type": "code",
   "execution_count": 53,
   "id": "af31d375",
   "metadata": {},
   "outputs": [
    {
     "data": {
      "text/html": [
       "<div>\n",
       "<style scoped>\n",
       "    .dataframe tbody tr th:only-of-type {\n",
       "        vertical-align: middle;\n",
       "    }\n",
       "\n",
       "    .dataframe tbody tr th {\n",
       "        vertical-align: top;\n",
       "    }\n",
       "\n",
       "    .dataframe thead th {\n",
       "        text-align: right;\n",
       "    }\n",
       "</style>\n",
       "<table border=\"1\" class=\"dataframe\">\n",
       "  <thead>\n",
       "    <tr style=\"text-align: right;\">\n",
       "      <th></th>\n",
       "      <th>Tsim</th>\n",
       "      <th>Tsim_original</th>\n",
       "      <th>Tsim_pctime</th>\n",
       "      <th>Ifast_minib0_deconv_ib1_decay_all</th>\n",
       "    </tr>\n",
       "  </thead>\n",
       "  <tbody>\n",
       "    <tr>\n",
       "      <th>0</th>\n",
       "      <td>0.0</td>\n",
       "      <td>NaN</td>\n",
       "      <td>52684</td>\n",
       "      <td>0.000000</td>\n",
       "    </tr>\n",
       "    <tr>\n",
       "      <th>1</th>\n",
       "      <td>2.0</td>\n",
       "      <td>NaN</td>\n",
       "      <td>52686</td>\n",
       "      <td>-0.026359</td>\n",
       "    </tr>\n",
       "    <tr>\n",
       "      <th>2</th>\n",
       "      <td>4.0</td>\n",
       "      <td>NaN</td>\n",
       "      <td>52688</td>\n",
       "      <td>-0.025909</td>\n",
       "    </tr>\n",
       "    <tr>\n",
       "      <th>3</th>\n",
       "      <td>7.0</td>\n",
       "      <td>NaN</td>\n",
       "      <td>52691</td>\n",
       "      <td>-0.025736</td>\n",
       "    </tr>\n",
       "    <tr>\n",
       "      <th>4</th>\n",
       "      <td>9.0</td>\n",
       "      <td>NaN</td>\n",
       "      <td>52693</td>\n",
       "      <td>-0.026245</td>\n",
       "    </tr>\n",
       "    <tr>\n",
       "      <th>...</th>\n",
       "      <td>...</td>\n",
       "      <td>...</td>\n",
       "      <td>...</td>\n",
       "      <td>...</td>\n",
       "    </tr>\n",
       "    <tr>\n",
       "      <th>620636</th>\n",
       "      <td>12487.0</td>\n",
       "      <td>10436.0</td>\n",
       "      <td>69763</td>\n",
       "      <td>0.157864</td>\n",
       "    </tr>\n",
       "    <tr>\n",
       "      <th>620637</th>\n",
       "      <td>12489.0</td>\n",
       "      <td>10438.0</td>\n",
       "      <td>69765</td>\n",
       "      <td>0.156875</td>\n",
       "    </tr>\n",
       "    <tr>\n",
       "      <th>620638</th>\n",
       "      <td>12491.0</td>\n",
       "      <td>10440.0</td>\n",
       "      <td>69767</td>\n",
       "      <td>0.156099</td>\n",
       "    </tr>\n",
       "    <tr>\n",
       "      <th>620639</th>\n",
       "      <td>12493.0</td>\n",
       "      <td>10442.0</td>\n",
       "      <td>69769</td>\n",
       "      <td>0.155677</td>\n",
       "    </tr>\n",
       "    <tr>\n",
       "      <th>620640</th>\n",
       "      <td>12495.0</td>\n",
       "      <td>10444.0</td>\n",
       "      <td>69771</td>\n",
       "      <td>0.155502</td>\n",
       "    </tr>\n",
       "  </tbody>\n",
       "</table>\n",
       "<p>620641 rows × 4 columns</p>\n",
       "</div>"
      ],
      "text/plain": [
       "           Tsim  Tsim_original  Tsim_pctime  Ifast_minib0_deconv_ib1_decay_all\n",
       "0           0.0            NaN        52684                           0.000000\n",
       "1           2.0            NaN        52686                          -0.026359\n",
       "2           4.0            NaN        52688                          -0.025909\n",
       "3           7.0            NaN        52691                          -0.025736\n",
       "4           9.0            NaN        52693                          -0.026245\n",
       "...         ...            ...          ...                                ...\n",
       "620636  12487.0        10436.0        69763                           0.157864\n",
       "620637  12489.0        10438.0        69765                           0.156875\n",
       "620638  12491.0        10440.0        69767                           0.156099\n",
       "620639  12493.0        10442.0        69769                           0.155677\n",
       "620640  12495.0        10444.0        69771                           0.155502\n",
       "\n",
       "[620641 rows x 4 columns]"
      ]
     },
     "execution_count": 53,
     "metadata": {},
     "output_type": "execute_result"
    }
   ],
   "source": [
    "dfa[['Tsim','Tsim_original', 'Tsim_pctime','Ifast_minib0_deconv_ib1_decay_all']]"
   ]
  },
  {
   "cell_type": "code",
   "execution_count": 25,
   "id": "58916cd7",
   "metadata": {},
   "outputs": [],
   "source": [
    "df = pd.read_csv(\"/home/poyraden/Analysis/JOSIEfiles/Proccessed/Josie0910_preparationadded_2023paper.csv\", low_memory=False)\n"
   ]
  },
  {
   "cell_type": "code",
   "execution_count": 26,
   "id": "8fd78d3d",
   "metadata": {},
   "outputs": [
    {
     "name": "stdout",
     "output_type": "stream",
     "text": [
      "['Unnamed: 0', 'index', 'Tact', 'Tsys', 'Sim', 'TimeBool', 'TimeTag', 'IM', 'Team', 'I_OPM_kom', 'I_OPM_jma', 'iB0', 'iB1', 'iB2', 'ENSCI', 'Sol', 'Buf', 'ADX', 'Tsim', 'Pair', 'TPext', 'PFcor', 'PO3', 'PO3_OPM', 'Year', 'unc_Tpump', 'Tpump_cor', 'unc_Tpump_cor', 'deltat', 'unc_deltat', 'deltat_ppi', 'unc_deltat_ppi', 'Cpf_kom', 'unc_Cpf_kom', 'Cpf', 'unc_Cpf', 'plog', 'Cpf_jma', 'unc_Cpf_jma', 'PFcor_kom', 'PFcor_jma', 'PO3_calc', 'PO3_dqa', 'Time_ts', 'Time_all', 'Tsim_original', 'Tsim_pctime']\n"
     ]
    }
   ],
   "source": [
    "print(list(df))"
   ]
  },
  {
   "cell_type": "code",
   "execution_count": 27,
   "id": "b97b2b85",
   "metadata": {},
   "outputs": [
    {
     "data": {
      "text/html": [
       "<div>\n",
       "<style scoped>\n",
       "    .dataframe tbody tr th:only-of-type {\n",
       "        vertical-align: middle;\n",
       "    }\n",
       "\n",
       "    .dataframe tbody tr th {\n",
       "        vertical-align: top;\n",
       "    }\n",
       "\n",
       "    .dataframe thead th {\n",
       "        text-align: right;\n",
       "    }\n",
       "</style>\n",
       "<table border=\"1\" class=\"dataframe\">\n",
       "  <thead>\n",
       "    <tr style=\"text-align: right;\">\n",
       "      <th></th>\n",
       "      <th>Tsim</th>\n",
       "      <th>Tsim_original</th>\n",
       "      <th>Tsim_pctime</th>\n",
       "    </tr>\n",
       "  </thead>\n",
       "  <tbody>\n",
       "    <tr>\n",
       "      <th>0</th>\n",
       "      <td>0.0</td>\n",
       "      <td>NaN</td>\n",
       "      <td>52684</td>\n",
       "    </tr>\n",
       "    <tr>\n",
       "      <th>1</th>\n",
       "      <td>2.0</td>\n",
       "      <td>NaN</td>\n",
       "      <td>52686</td>\n",
       "    </tr>\n",
       "    <tr>\n",
       "      <th>2</th>\n",
       "      <td>4.0</td>\n",
       "      <td>NaN</td>\n",
       "      <td>52688</td>\n",
       "    </tr>\n",
       "    <tr>\n",
       "      <th>3</th>\n",
       "      <td>7.0</td>\n",
       "      <td>NaN</td>\n",
       "      <td>52691</td>\n",
       "    </tr>\n",
       "    <tr>\n",
       "      <th>4</th>\n",
       "      <td>9.0</td>\n",
       "      <td>NaN</td>\n",
       "      <td>52693</td>\n",
       "    </tr>\n",
       "    <tr>\n",
       "      <th>...</th>\n",
       "      <td>...</td>\n",
       "      <td>...</td>\n",
       "      <td>...</td>\n",
       "    </tr>\n",
       "    <tr>\n",
       "      <th>637507</th>\n",
       "      <td>12487.0</td>\n",
       "      <td>10436.0</td>\n",
       "      <td>69763</td>\n",
       "    </tr>\n",
       "    <tr>\n",
       "      <th>637508</th>\n",
       "      <td>12489.0</td>\n",
       "      <td>10438.0</td>\n",
       "      <td>69765</td>\n",
       "    </tr>\n",
       "    <tr>\n",
       "      <th>637509</th>\n",
       "      <td>12491.0</td>\n",
       "      <td>10440.0</td>\n",
       "      <td>69767</td>\n",
       "    </tr>\n",
       "    <tr>\n",
       "      <th>637510</th>\n",
       "      <td>12493.0</td>\n",
       "      <td>10442.0</td>\n",
       "      <td>69769</td>\n",
       "    </tr>\n",
       "    <tr>\n",
       "      <th>637511</th>\n",
       "      <td>12495.0</td>\n",
       "      <td>10444.0</td>\n",
       "      <td>69771</td>\n",
       "    </tr>\n",
       "  </tbody>\n",
       "</table>\n",
       "<p>637512 rows × 3 columns</p>\n",
       "</div>"
      ],
      "text/plain": [
       "           Tsim  Tsim_original  Tsim_pctime\n",
       "0           0.0            NaN        52684\n",
       "1           2.0            NaN        52686\n",
       "2           4.0            NaN        52688\n",
       "3           7.0            NaN        52691\n",
       "4           9.0            NaN        52693\n",
       "...         ...            ...          ...\n",
       "637507  12487.0        10436.0        69763\n",
       "637508  12489.0        10438.0        69765\n",
       "637509  12491.0        10440.0        69767\n",
       "637510  12493.0        10442.0        69769\n",
       "637511  12495.0        10444.0        69771\n",
       "\n",
       "[637512 rows x 3 columns]"
      ]
     },
     "execution_count": 27,
     "metadata": {},
     "output_type": "execute_result"
    }
   ],
   "source": [
    "df[['Tsim','Tsim_original', 'Tsim_pctime']]"
   ]
  },
  {
   "cell_type": "code",
   "execution_count": null,
   "id": "7e693d3a",
   "metadata": {},
   "outputs": [],
   "source": []
  },
  {
   "cell_type": "code",
   "execution_count": 21,
   "id": "6025bc35",
   "metadata": {},
   "outputs": [],
   "source": [
    "df1 = pd.read_csv(f\"/home/poyraden/Analysis/JOSIEfiles/Proccessed/\"\n",
    "                    f\"Josie0910_deconv_2023_unitedpaper{pre}.csv\",low_memory=False)"
   ]
  },
  {
   "cell_type": "code",
   "execution_count": 23,
   "id": "2b02bc89",
   "metadata": {},
   "outputs": [
    {
     "name": "stdout",
     "output_type": "stream",
     "text": [
      "['Unnamed: 0', 'Sim', 'Team', 'iB0', 'iB1', 'iB2', 'ENSCI', 'Sol', 'ADX', 'Buf', 'PO3', 'PO3_OPM', 'Tsim', 'Pair', 'IM', 'I_OPM_kom', 'I_OPM_jma', 'PFcor', 'TPext', 'Tpump_cor', 'unc_Tpump_cor', 'unc_Tpump', 'Tpump_cor.1', 'unc_Tpump_cor.1', 'deltat', 'unc_deltat', 'deltat_ppi', 'unc_deltat_ppi', 'Cpf_kom', 'unc_Cpf_kom', 'Cpf', 'unc_Cpf', 'Cpf_jma', 'unc_Cpf_jma', 'PFcor_kom', 'PFcor_jma', 'PO3_calc', 'PO3_dqa', 'I_slow_conv_ib1_decay', 'Ifast_minib0_deconv', 'Ifast_minib0_deconv_ib1_decay', 'Ifast_minib0', 'Ifast_minib0_ib1_decay', 'Islow_conv', 'Ifast_deconv_ib1_decay']\n"
     ]
    }
   ],
   "source": [
    "print(list(df1))"
   ]
  },
  {
   "cell_type": "code",
   "execution_count": 24,
   "id": "60b2ab5e",
   "metadata": {},
   "outputs": [
    {
     "data": {
      "text/html": [
       "<div>\n",
       "<style scoped>\n",
       "    .dataframe tbody tr th:only-of-type {\n",
       "        vertical-align: middle;\n",
       "    }\n",
       "\n",
       "    .dataframe tbody tr th {\n",
       "        vertical-align: top;\n",
       "    }\n",
       "\n",
       "    .dataframe thead th {\n",
       "        text-align: right;\n",
       "    }\n",
       "</style>\n",
       "<table border=\"1\" class=\"dataframe\">\n",
       "  <thead>\n",
       "    <tr style=\"text-align: right;\">\n",
       "      <th></th>\n",
       "      <th>Tsim</th>\n",
       "    </tr>\n",
       "  </thead>\n",
       "  <tbody>\n",
       "    <tr>\n",
       "      <th>0</th>\n",
       "      <td>0.0</td>\n",
       "    </tr>\n",
       "    <tr>\n",
       "      <th>1</th>\n",
       "      <td>2.0</td>\n",
       "    </tr>\n",
       "    <tr>\n",
       "      <th>2</th>\n",
       "      <td>4.0</td>\n",
       "    </tr>\n",
       "    <tr>\n",
       "      <th>3</th>\n",
       "      <td>6.0</td>\n",
       "    </tr>\n",
       "    <tr>\n",
       "      <th>4</th>\n",
       "      <td>8.0</td>\n",
       "    </tr>\n",
       "    <tr>\n",
       "      <th>...</th>\n",
       "      <td>...</td>\n",
       "    </tr>\n",
       "    <tr>\n",
       "      <th>489652</th>\n",
       "      <td>10990.0</td>\n",
       "    </tr>\n",
       "    <tr>\n",
       "      <th>489653</th>\n",
       "      <td>10992.0</td>\n",
       "    </tr>\n",
       "    <tr>\n",
       "      <th>489654</th>\n",
       "      <td>10994.0</td>\n",
       "    </tr>\n",
       "    <tr>\n",
       "      <th>489655</th>\n",
       "      <td>10996.0</td>\n",
       "    </tr>\n",
       "    <tr>\n",
       "      <th>489656</th>\n",
       "      <td>10998.0</td>\n",
       "    </tr>\n",
       "  </tbody>\n",
       "</table>\n",
       "<p>489657 rows × 1 columns</p>\n",
       "</div>"
      ],
      "text/plain": [
       "           Tsim\n",
       "0           0.0\n",
       "1           2.0\n",
       "2           4.0\n",
       "3           6.0\n",
       "4           8.0\n",
       "...         ...\n",
       "489652  10990.0\n",
       "489653  10992.0\n",
       "489654  10994.0\n",
       "489655  10996.0\n",
       "489656  10998.0\n",
       "\n",
       "[489657 rows x 1 columns]"
      ]
     },
     "execution_count": 24,
     "metadata": {},
     "output_type": "execute_result"
    }
   ],
   "source": [
    "df1[][['Tsim','Ifast_minib0_deconv_ib1_decay]]"
   ]
  },
  {
   "cell_type": "code",
   "execution_count": 3,
   "id": "c620494b",
   "metadata": {},
   "outputs": [],
   "source": [
    "df2 = pd.read_csv(f\"/home/poyraden/Analysis/JOSIEfiles/Proccessed/Josie0910_calibrated{pre}.csv\", low_memory=False)\n"
   ]
  },
  {
   "cell_type": "code",
   "execution_count": 15,
   "id": "c392905d",
   "metadata": {},
   "outputs": [
    {
     "name": "stdout",
     "output_type": "stream",
     "text": [
      "['Unnamed: 0', 'Unnamed: 0.1', 'Sim', 'Team', 'iB0', 'iB1', 'iB2', 'ENSCI', 'Sol', 'ADX', 'Buf', 'PO3', 'PO3_OPM', 'Tsim', 'Pair', 'IM', 'I_OPM_kom', 'I_OPM_jma', 'PFcor', 'TPext']\n"
     ]
    }
   ],
   "source": [
    "print(list(df2)[0:20])"
   ]
  },
  {
   "cell_type": "code",
   "execution_count": 16,
   "id": "e0896bf0",
   "metadata": {},
   "outputs": [
    {
     "name": "stdout",
     "output_type": "stream",
     "text": [
      "['Tpump_cor', 'unc_Tpump_cor', 'unc_Tpump', 'Tpump_cor.1', 'unc_Tpump_cor.1', 'deltat', 'unc_deltat', 'deltat_ppi', 'unc_deltat_ppi', 'Cpf_kom', 'unc_Cpf_kom', 'Cpf', 'unc_Cpf', 'Cpf_jma', 'unc_Cpf_jma', 'PFcor_kom', 'PFcor_jma', 'PO3_calc', 'PO3_dqa', 'I_slow_conv_ib1_decay']\n"
     ]
    }
   ],
   "source": [
    "print(list(df2)[20:40])"
   ]
  },
  {
   "cell_type": "code",
   "execution_count": 17,
   "id": "08355896",
   "metadata": {},
   "outputs": [
    {
     "name": "stdout",
     "output_type": "stream",
     "text": [
      "['Ifast_minib0_deconv', 'Ifast_minib0_deconv_ib1_decay', 'Ifast_minib0', 'Ifast_minib0_ib1_decay', 'Islow_conv', 'Ifast_deconv_ib1_decay', 'Ifast_minib0_deconv_sm10', 'Year', 'Unnamed: 0.1.1', 'index', 'Tact', 'Tair', 'Tinlet', 'TPint', 'I_Pump', 'VMRO3', 'VMRO3_OPM', 'ADif_PO3S', 'RDif_PO3S', 'Z']\n"
     ]
    }
   ],
   "source": [
    "print(list(df2)[40:60])"
   ]
  },
  {
   "cell_type": "code",
   "execution_count": 18,
   "id": "284f773a",
   "metadata": {},
   "outputs": [
    {
     "name": "stdout",
     "output_type": "stream",
     "text": [
      "['Header_Team', 'Header_Sim', 'Header_PFunc', 'Header_PFcor', 'Header_IB1', 'Simulator_RunNr', 'Date', 'Ini_Prep_Date', 'Prep_SOP', 'SerialNr', 'SerNr', 'Date_1', 'SondeAge', 'Solutions', 'Volume_Cathode', 'ByPass_Cell', 'Current_10min_after_noO3', 'Resp_Time_4_1p5_sec', 'RespTime_1minOver2min', 'Final_BG']\n"
     ]
    }
   ],
   "source": [
    "print(list(df2)[60:80])"
   ]
  },
  {
   "cell_type": "code",
   "execution_count": 19,
   "id": "9506ef76",
   "metadata": {},
   "outputs": [
    {
     "name": "stdout",
     "output_type": "stream",
     "text": [
      "['T100', 'mlOvermin', 'T100_post', 'mlOverminp1', 'RespTime_4_1p5_sec_p1', 'RespTime_1minOver2min_microamps', 'PostTestSolution_Lost_gr', 'PumpMotorCurrent', 'PumpMotorCurrent_Post', 'PF_Unc', 'PF_Cor', 'BG', 'plog', 'Tcell', 'TcellC', 'Pw', 'massloss', 'Tboil', 'total_massloss', 'I_conv_slow']\n"
     ]
    }
   ],
   "source": [
    "print(list(df2)[80:100])"
   ]
  },
  {
   "cell_type": "code",
   "execution_count": 20,
   "id": "c718e1ed",
   "metadata": {},
   "outputs": [
    {
     "name": "stdout",
     "output_type": "stream",
     "text": [
      "['I_conv_slow_komhyr', 'IMminusIB0', 'tmp', 'IM_gsm', 'IMminusIB0_gsm', 'Islow', 'Ifast', 'Ifast_deconv', 'ADif', 'RDif', 'ADif_cor', 'RDif_cor', 'PO3_cor', 'ADif_pre', 'RDif_pre', 'ADif_pre_cor', 'RDif_pre_cor', 'IminusiB1', 'R', 'I_corrected', 'ADif_cal', 'RDif_cal']\n"
     ]
    }
   ],
   "source": [
    "print(list(df2)[100:])"
   ]
  },
  {
   "cell_type": "code",
   "execution_count": 7,
   "id": "0cc24ede",
   "metadata": {},
   "outputs": [
    {
     "data": {
      "text/html": [
       "<div>\n",
       "<style scoped>\n",
       "    .dataframe tbody tr th:only-of-type {\n",
       "        vertical-align: middle;\n",
       "    }\n",
       "\n",
       "    .dataframe tbody tr th {\n",
       "        vertical-align: top;\n",
       "    }\n",
       "\n",
       "    .dataframe thead th {\n",
       "        text-align: right;\n",
       "    }\n",
       "</style>\n",
       "<table border=\"1\" class=\"dataframe\">\n",
       "  <thead>\n",
       "    <tr style=\"text-align: right;\">\n",
       "      <th></th>\n",
       "      <th>Tsim</th>\n",
       "    </tr>\n",
       "  </thead>\n",
       "  <tbody>\n",
       "    <tr>\n",
       "      <th>0</th>\n",
       "      <td>902.0</td>\n",
       "    </tr>\n",
       "    <tr>\n",
       "      <th>1</th>\n",
       "      <td>904.0</td>\n",
       "    </tr>\n",
       "    <tr>\n",
       "      <th>2</th>\n",
       "      <td>906.0</td>\n",
       "    </tr>\n",
       "    <tr>\n",
       "      <th>3</th>\n",
       "      <td>908.0</td>\n",
       "    </tr>\n",
       "    <tr>\n",
       "      <th>4</th>\n",
       "      <td>910.0</td>\n",
       "    </tr>\n",
       "    <tr>\n",
       "      <th>...</th>\n",
       "      <td>...</td>\n",
       "    </tr>\n",
       "    <tr>\n",
       "      <th>271734</th>\n",
       "      <td>8092.0</td>\n",
       "    </tr>\n",
       "    <tr>\n",
       "      <th>271735</th>\n",
       "      <td>8094.0</td>\n",
       "    </tr>\n",
       "    <tr>\n",
       "      <th>271736</th>\n",
       "      <td>8096.0</td>\n",
       "    </tr>\n",
       "    <tr>\n",
       "      <th>271737</th>\n",
       "      <td>8098.0</td>\n",
       "    </tr>\n",
       "    <tr>\n",
       "      <th>271738</th>\n",
       "      <td>8100.0</td>\n",
       "    </tr>\n",
       "  </tbody>\n",
       "</table>\n",
       "<p>271739 rows × 1 columns</p>\n",
       "</div>"
      ],
      "text/plain": [
       "          Tsim\n",
       "0        902.0\n",
       "1        904.0\n",
       "2        906.0\n",
       "3        908.0\n",
       "4        910.0\n",
       "...        ...\n",
       "271734  8092.0\n",
       "271735  8094.0\n",
       "271736  8096.0\n",
       "271737  8098.0\n",
       "271738  8100.0\n",
       "\n",
       "[271739 rows x 1 columns]"
      ]
     },
     "execution_count": 7,
     "metadata": {},
     "output_type": "execute_result"
    }
   ],
   "source": [
    "df2[['Tsim']]"
   ]
  },
  {
   "cell_type": "code",
   "execution_count": null,
   "id": "a0249d52",
   "metadata": {},
   "outputs": [],
   "source": []
  }
 ],
 "metadata": {
  "kernelspec": {
   "display_name": "Python 3 (ipykernel)",
   "language": "python",
   "name": "python3"
  },
  "language_info": {
   "codemirror_mode": {
    "name": "ipython",
    "version": 3
   },
   "file_extension": ".py",
   "mimetype": "text/x-python",
   "name": "python",
   "nbconvert_exporter": "python",
   "pygments_lexer": "ipython3",
   "version": "3.7.3"
  }
 },
 "nbformat": 4,
 "nbformat_minor": 5
}
