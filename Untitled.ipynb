{
 "cells": [
  {
   "cell_type": "code",
   "execution_count": 3,
   "id": "1342001c",
   "metadata": {},
   "outputs": [],
   "source": [
    "import numpy as np\n",
    "import pandas as pd"
   ]
  },
  {
   "cell_type": "code",
   "execution_count": 4,
   "id": "e89ac51b",
   "metadata": {},
   "outputs": [],
   "source": [
    "I=5.4"
   ]
  },
  {
   "cell_type": "code",
   "execution_count": 5,
   "id": "9dced139",
   "metadata": {},
   "outputs": [],
   "source": [
    "a = 9.67\n",
    "b = -2.65\n"
   ]
  },
  {
   "cell_type": "code",
   "execution_count": 6,
   "id": "b4f7a39f",
   "metadata": {},
   "outputs": [
    {
     "name": "stdout",
     "output_type": "stream",
     "text": [
      "1.0172\n"
     ]
    }
   ],
   "source": [
    "a2 = a/100\n",
    "b2 = b/100\n",
    "eta2 = 1 + a2 + b2*np.log10(1000)\n",
    "print(eta2)"
   ]
  },
  {
   "cell_type": "code",
   "execution_count": null,
   "id": "ce9aef96",
   "metadata": {},
   "outputs": [],
   "source": [
    "con2 = "
   ]
  },
  {
   "cell_type": "code",
   "execution_count": null,
   "id": "240da4ea",
   "metadata": {},
   "outputs": [],
   "source": []
  },
  {
   "cell_type": "code",
   "execution_count": 16,
   "id": "ac99d873",
   "metadata": {},
   "outputs": [],
   "source": [
    "eta3 = 1 + a2 + b2*np.log10(10)\n"
   ]
  },
  {
   "cell_type": "code",
   "execution_count": 17,
   "id": "6f51383f",
   "metadata": {},
   "outputs": [
    {
     "name": "stdout",
     "output_type": "stream",
     "text": [
      "5.3086905230043255\n"
     ]
    }
   ],
   "source": [
    "Icor2 = I/eta2\n",
    "print(Icor2)"
   ]
  },
  {
   "cell_type": "code",
   "execution_count": 18,
   "id": "7798fe86",
   "metadata": {},
   "outputs": [
    {
     "name": "stdout",
     "output_type": "stream",
     "text": [
      "5.045785834423472\n"
     ]
    }
   ],
   "source": [
    "Icor3 = I/eta3\n",
    "print(Icor3)"
   ]
  },
  {
   "cell_type": "code",
   "execution_count": 20,
   "id": "dc035d57",
   "metadata": {},
   "outputs": [
    {
     "name": "stdout",
     "output_type": "stream",
     "text": [
      "5.308690523004326\n"
     ]
    }
   ],
   "source": [
    "R2 = a + b*np.log10(1000)\n",
    "Icor_r2 = I*(100/(100+R2))\n",
    "print(Icor_r2)"
   ]
  },
  {
   "cell_type": "code",
   "execution_count": 21,
   "id": "1c05263e",
   "metadata": {},
   "outputs": [
    {
     "name": "stdout",
     "output_type": "stream",
     "text": [
      "5.045785834423473\n"
     ]
    }
   ],
   "source": [
    "R3 = a + b*np.log10(10)\n",
    "Icor_r3 = I*(100/(100+R3))\n",
    "print(Icor_r3)"
   ]
  },
  {
   "cell_type": "code",
   "execution_count": 23,
   "id": "d8c4c7e0",
   "metadata": {},
   "outputs": [],
   "source": [
    "df17 = pd.read_csv(f\"/home/poyraden/Analysis/JOSIEfiles/Proccessed/Josie2017_deconv_2023paper_ib2_sm_hv.csv\", low_memory=False)\n"
   ]
  },
  {
   "cell_type": "code",
   "execution_count": 28,
   "id": "b561b2b9",
   "metadata": {},
   "outputs": [],
   "source": [
    "dft = df17.drop_duplicates(['Sim','Team'])[['Sim','Team','iB0','iB1','iB2']]"
   ]
  },
  {
   "cell_type": "code",
   "execution_count": 27,
   "id": "f549a66b",
   "metadata": {},
   "outputs": [
    {
     "data": {
      "text/plain": [
       "(0.0, 0.2)"
      ]
     },
     "execution_count": 27,
     "metadata": {},
     "output_type": "execute_result"
    }
   ],
   "source": [
    "df17.iB1.min(),df17.iB1.max()"
   ]
  },
  {
   "cell_type": "code",
   "execution_count": 31,
   "id": "84ce5f35",
   "metadata": {},
   "outputs": [
    {
     "data": {
      "text/html": [
       "<div>\n",
       "<style scoped>\n",
       "    .dataframe tbody tr th:only-of-type {\n",
       "        vertical-align: middle;\n",
       "    }\n",
       "\n",
       "    .dataframe tbody tr th {\n",
       "        vertical-align: top;\n",
       "    }\n",
       "\n",
       "    .dataframe thead th {\n",
       "        text-align: right;\n",
       "    }\n",
       "</style>\n",
       "<table border=\"1\" class=\"dataframe\">\n",
       "  <thead>\n",
       "    <tr style=\"text-align: right;\">\n",
       "      <th></th>\n",
       "      <th>Sim</th>\n",
       "      <th>Team</th>\n",
       "      <th>iB0</th>\n",
       "      <th>iB1</th>\n",
       "      <th>iB2</th>\n",
       "    </tr>\n",
       "  </thead>\n",
       "  <tbody>\n",
       "    <tr>\n",
       "      <th>0</th>\n",
       "      <td>181</td>\n",
       "      <td>2</td>\n",
       "      <td>0.00</td>\n",
       "      <td>0.01</td>\n",
       "      <td>0.02</td>\n",
       "    </tr>\n",
       "    <tr>\n",
       "      <th>3501</th>\n",
       "      <td>179</td>\n",
       "      <td>1</td>\n",
       "      <td>0.01</td>\n",
       "      <td>0.03</td>\n",
       "      <td>0.03</td>\n",
       "    </tr>\n",
       "    <tr>\n",
       "      <th>7002</th>\n",
       "      <td>185</td>\n",
       "      <td>5</td>\n",
       "      <td>0.00</td>\n",
       "      <td>0.02</td>\n",
       "      <td>0.05</td>\n",
       "    </tr>\n",
       "    <tr>\n",
       "      <th>10503</th>\n",
       "      <td>175</td>\n",
       "      <td>1</td>\n",
       "      <td>0.00</td>\n",
       "      <td>0.02</td>\n",
       "      <td>0.02</td>\n",
       "    </tr>\n",
       "    <tr>\n",
       "      <th>11565</th>\n",
       "      <td>184</td>\n",
       "      <td>7</td>\n",
       "      <td>0.03</td>\n",
       "      <td>0.07</td>\n",
       "      <td>0.09</td>\n",
       "    </tr>\n",
       "    <tr>\n",
       "      <th>...</th>\n",
       "      <td>...</td>\n",
       "      <td>...</td>\n",
       "      <td>...</td>\n",
       "      <td>...</td>\n",
       "      <td>...</td>\n",
       "    </tr>\n",
       "    <tr>\n",
       "      <th>278766</th>\n",
       "      <td>179</td>\n",
       "      <td>2</td>\n",
       "      <td>0.00</td>\n",
       "      <td>0.00</td>\n",
       "      <td>0.03</td>\n",
       "    </tr>\n",
       "    <tr>\n",
       "      <th>282267</th>\n",
       "      <td>181</td>\n",
       "      <td>1</td>\n",
       "      <td>0.00</td>\n",
       "      <td>0.01</td>\n",
       "      <td>0.03</td>\n",
       "    </tr>\n",
       "    <tr>\n",
       "      <th>285768</th>\n",
       "      <td>187</td>\n",
       "      <td>6</td>\n",
       "      <td>0.00</td>\n",
       "      <td>0.02</td>\n",
       "      <td>0.03</td>\n",
       "    </tr>\n",
       "    <tr>\n",
       "      <th>289270</th>\n",
       "      <td>185</td>\n",
       "      <td>6</td>\n",
       "      <td>0.08</td>\n",
       "      <td>0.14</td>\n",
       "      <td>0.09</td>\n",
       "    </tr>\n",
       "    <tr>\n",
       "      <th>292771</th>\n",
       "      <td>186</td>\n",
       "      <td>6</td>\n",
       "      <td>0.01</td>\n",
       "      <td>0.02</td>\n",
       "      <td>0.04</td>\n",
       "    </tr>\n",
       "  </tbody>\n",
       "</table>\n",
       "<p>83 rows × 5 columns</p>\n",
       "</div>"
      ],
      "text/plain": [
       "        Sim  Team   iB0   iB1   iB2\n",
       "0       181     2  0.00  0.01  0.02\n",
       "3501    179     1  0.01  0.03  0.03\n",
       "7002    185     5  0.00  0.02  0.05\n",
       "10503   175     1  0.00  0.02  0.02\n",
       "11565   184     7  0.03  0.07  0.09\n",
       "...     ...   ...   ...   ...   ...\n",
       "278766  179     2  0.00  0.00  0.03\n",
       "282267  181     1  0.00  0.01  0.03\n",
       "285768  187     6  0.00  0.02  0.03\n",
       "289270  185     6  0.08  0.14  0.09\n",
       "292771  186     6  0.01  0.02  0.04\n",
       "\n",
       "[83 rows x 5 columns]"
      ]
     },
     "execution_count": 31,
     "metadata": {},
     "output_type": "execute_result"
    }
   ],
   "source": [
    "dft[dft.iB2 <.1]"
   ]
  },
  {
   "cell_type": "code",
   "execution_count": 35,
   "id": "49c60661",
   "metadata": {},
   "outputs": [
    {
     "data": {
      "text/plain": [
       "0         1.106230\n",
       "1         1.107860\n",
       "2         1.106220\n",
       "3         1.103780\n",
       "4         1.098900\n",
       "            ...   \n",
       "296267    0.150183\n",
       "296268    0.235246\n",
       "296269    0.263736\n",
       "296270    0.380952\n",
       "296271    0.507936\n",
       "Name: IM, Length: 296271, dtype: float64"
      ]
     },
     "execution_count": 35,
     "metadata": {},
     "output_type": "execute_result"
    }
   ],
   "source": [
    "df17[df17.IM > 0]['IM']"
   ]
  },
  {
   "cell_type": "code",
   "execution_count": 36,
   "id": "af9f08d6",
   "metadata": {},
   "outputs": [
    {
     "data": {
      "text/plain": [
       "(0.0, 9.68009)"
      ]
     },
     "execution_count": 36,
     "metadata": {},
     "output_type": "execute_result"
    }
   ],
   "source": [
    "df17.IM.min(), df17.IM.max()"
   ]
  },
  {
   "cell_type": "code",
   "execution_count": null,
   "id": "dcdcd8c8",
   "metadata": {},
   "outputs": [],
   "source": []
  }
 ],
 "metadata": {
  "kernelspec": {
   "display_name": "Python 3 (ipykernel)",
   "language": "python",
   "name": "python3"
  },
  "language_info": {
   "codemirror_mode": {
    "name": "ipython",
    "version": 3
   },
   "file_extension": ".py",
   "mimetype": "text/x-python",
   "name": "python",
   "nbconvert_exporter": "python",
   "pygments_lexer": "ipython3",
   "version": "3.7.3"
  }
 },
 "nbformat": 4,
 "nbformat_minor": 5
}
